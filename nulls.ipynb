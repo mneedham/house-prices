{
 "cells": [
  {
   "cell_type": "code",
   "execution_count": 2,
   "metadata": {
    "collapsed": true
   },
   "outputs": [],
   "source": [
    "import pandas as pd"
   ]
  },
  {
   "cell_type": "code",
   "execution_count": 4,
   "metadata": {},
   "outputs": [
    {
     "data": {
      "text/plain": [
       "LotFrontage      259\n",
       "Alley           1369\n",
       "MasVnrType         8\n",
       "MasVnrArea         8\n",
       "BsmtQual          37\n",
       "BsmtCond          37\n",
       "BsmtExposure      38\n",
       "BsmtFinType1      37\n",
       "BsmtFinType2      38\n",
       "Electrical         1\n",
       "FireplaceQu      690\n",
       "GarageType        81\n",
       "GarageYrBlt       81\n",
       "GarageFinish      81\n",
       "GarageQual        81\n",
       "GarageCond        81\n",
       "PoolQC          1453\n",
       "Fence           1179\n",
       "MiscFeature     1406\n",
       "dtype: int64"
      ]
     },
     "execution_count": 4,
     "metadata": {},
     "output_type": "execute_result"
    }
   ],
   "source": [
    "train = pd.read_csv(\"train.csv\")\n",
    "null_columns=train.columns[train.isnull().any()]\n",
    "train[null_columns].isnull().sum()"
   ]
  },
  {
   "cell_type": "code",
   "execution_count": 12,
   "metadata": {},
   "outputs": [
    {
     "name": "stdout",
     "output_type": "stream",
     "text": [
      "      LotFrontage Alley MasVnrType  MasVnrArea BsmtQual BsmtCond BsmtExposure  \\\n",
      "1379         73.0   NaN       None         0.0       Gd       TA           No   \n",
      "\n",
      "     BsmtFinType1 BsmtFinType2 Electrical FireplaceQu GarageType  GarageYrBlt  \\\n",
      "1379          Unf          Unf        NaN         NaN    BuiltIn       2007.0   \n",
      "\n",
      "     GarageFinish GarageQual GarageCond PoolQC Fence MiscFeature  \n",
      "1379          Fin         TA         TA    NaN   NaN         NaN  \n"
     ]
    }
   ],
   "source": [
    "print(train[train[\"Electrical\"].isnull()][null_columns])"
   ]
  },
  {
   "cell_type": "code",
   "execution_count": 15,
   "metadata": {},
   "outputs": [
    {
     "name": "stdout",
     "output_type": "stream",
     "text": [
      "   LotFrontage Alley MasVnrType  MasVnrArea BsmtQual BsmtCond BsmtExposure  \\\n",
      "0         65.0   NaN    BrkFace       196.0       Gd       TA           No   \n",
      "1         80.0   NaN       None         0.0       Gd       TA           Gd   \n",
      "2         68.0   NaN    BrkFace       162.0       Gd       TA           Mn   \n",
      "3         60.0   NaN       None         0.0       TA       Gd           No   \n",
      "4         84.0   NaN    BrkFace       350.0       Gd       TA           Av   \n",
      "\n",
      "  BsmtFinType1 BsmtFinType2 Electrical FireplaceQu GarageType  GarageYrBlt  \\\n",
      "0          GLQ          Unf      SBrkr         NaN     Attchd       2003.0   \n",
      "1          ALQ          Unf      SBrkr          TA     Attchd       1976.0   \n",
      "2          GLQ          Unf      SBrkr          TA     Attchd       2001.0   \n",
      "3          ALQ          Unf      SBrkr          Gd     Detchd       1998.0   \n",
      "4          GLQ          Unf      SBrkr          TA     Attchd       2000.0   \n",
      "\n",
      "  GarageFinish GarageQual GarageCond PoolQC Fence MiscFeature  \n",
      "0          RFn         TA         TA    NaN   NaN         NaN  \n",
      "1          RFn         TA         TA    NaN   NaN         NaN  \n",
      "2          RFn         TA         TA    NaN   NaN         NaN  \n",
      "3          Unf         TA         TA    NaN   NaN         NaN  \n",
      "4          RFn         TA         TA    NaN   NaN         NaN  \n"
     ]
    }
   ],
   "source": [
    "print(train[train.isnull().any(axis=1)][null_columns].head())"
   ]
  }
 ],
 "metadata": {
  "kernelspec": {
   "display_name": "Python 3",
   "language": "python",
   "name": "python3"
  },
  "language_info": {
   "codemirror_mode": {
    "name": "ipython",
    "version": 3
   },
   "file_extension": ".py",
   "mimetype": "text/x-python",
   "name": "python",
   "nbconvert_exporter": "python",
   "pygments_lexer": "ipython3",
   "version": "3.6.0"
  }
 },
 "nbformat": 4,
 "nbformat_minor": 2
}
