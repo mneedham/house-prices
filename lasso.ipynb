{
 "cells": [
  {
   "cell_type": "markdown",
   "metadata": {
    "_cell_guid": "e6335977-1dcb-a5bc-4856-184dd7bce3f9",
    "_uuid": "37fe8f460102f46f52155b59322b0ba272a50c79"
   },
   "source": [
    "## Trying out a linear model: \n",
    "\n",
    "Author: Alexandru Papiu ([@apapiu](https://twitter.com/apapiu), [GitHub](https://github.com/apapiu))\n",
    " \n",
    "If you use parts of this notebook in your own scripts, please give some sort of credit (for example link back to this). Thanks!\n",
    "\n",
    "\n",
    "There have been a few [great](https://www.kaggle.com/comartel/house-prices-advanced-regression-techniques/house-price-xgboost-starter/run/348739)  [scripts](https://www.kaggle.com/zoupet/house-prices-advanced-regression-techniques/xgboost-10-kfolds-with-scikit-learn/run/357561) on [xgboost](https://www.kaggle.com/tadepalli/house-prices-advanced-regression-techniques/xgboost-with-n-trees-autostop-0-12638/run/353049) already so I'd figured I'd try something simpler: a regularized linear regression model. Surprisingly it does really well with very little feature engineering. The key point is to to log_transform the numeric variables since most of them are skewed."
   ]
  },
  {
   "cell_type": "code",
   "execution_count": 58,
   "metadata": {
    "_cell_guid": "0d706811-b70c-aeab-a78b-3c7abd9978d3",
    "_execution_state": "idle",
    "_uuid": "35d3e40112a70e98ff74f3d1c8aaedbf117c6775",
    "collapsed": true
   },
   "outputs": [],
   "source": [
    "import pandas as pd\n",
    "import numpy as np\n",
    "import seaborn as sns\n",
    "import matplotlib\n",
    "\n",
    "import matplotlib.pyplot as plt\n",
    "from scipy.stats import skew\n",
    "from scipy.stats.stats import pearsonr\n",
    "\n",
    "from tabulate import tabulate\n",
    "\n",
    "%config InlineBackend.figure_format = 'retina' #set 'png' here when working on notebook\n",
    "%matplotlib inline"
   ]
  },
  {
   "cell_type": "code",
   "execution_count": 59,
   "metadata": {
    "_cell_guid": "603292c1-44b7-d72a-5468-e6782f311603",
    "_execution_state": "idle",
    "_uuid": "4f8f7109af644a896120a597306e1a1122f2b1f7",
    "collapsed": true
   },
   "outputs": [],
   "source": [
    "train = pd.read_csv(\"train.csv\")\n",
    "test = pd.read_csv(\"test.csv\")"
   ]
  },
  {
   "cell_type": "code",
   "execution_count": 60,
   "metadata": {
    "_cell_guid": "d646bb1b-56c4-9b45-d5d4-27095f61b1c0",
    "_execution_state": "idle",
    "_uuid": "1996ac98eedb8bf896ea5992c4fb1abea7abc1ef"
   },
   "outputs": [
    {
     "data": {
      "text/html": [
       "<div>\n",
       "<style>\n",
       "    .dataframe thead tr:only-child th {\n",
       "        text-align: right;\n",
       "    }\n",
       "\n",
       "    .dataframe thead th {\n",
       "        text-align: left;\n",
       "    }\n",
       "\n",
       "    .dataframe tbody tr th {\n",
       "        vertical-align: top;\n",
       "    }\n",
       "</style>\n",
       "<table border=\"1\" class=\"dataframe\">\n",
       "  <thead>\n",
       "    <tr style=\"text-align: right;\">\n",
       "      <th></th>\n",
       "      <th>Id</th>\n",
       "      <th>MSSubClass</th>\n",
       "      <th>MSZoning</th>\n",
       "      <th>LotFrontage</th>\n",
       "      <th>LotArea</th>\n",
       "      <th>Street</th>\n",
       "      <th>Alley</th>\n",
       "      <th>LotShape</th>\n",
       "      <th>LandContour</th>\n",
       "      <th>Utilities</th>\n",
       "      <th>...</th>\n",
       "      <th>PoolArea</th>\n",
       "      <th>PoolQC</th>\n",
       "      <th>Fence</th>\n",
       "      <th>MiscFeature</th>\n",
       "      <th>MiscVal</th>\n",
       "      <th>MoSold</th>\n",
       "      <th>YrSold</th>\n",
       "      <th>SaleType</th>\n",
       "      <th>SaleCondition</th>\n",
       "      <th>SalePrice</th>\n",
       "    </tr>\n",
       "  </thead>\n",
       "  <tbody>\n",
       "    <tr>\n",
       "      <th>0</th>\n",
       "      <td>1</td>\n",
       "      <td>60</td>\n",
       "      <td>RL</td>\n",
       "      <td>65.0</td>\n",
       "      <td>8450</td>\n",
       "      <td>Pave</td>\n",
       "      <td>NaN</td>\n",
       "      <td>Reg</td>\n",
       "      <td>Lvl</td>\n",
       "      <td>AllPub</td>\n",
       "      <td>...</td>\n",
       "      <td>0</td>\n",
       "      <td>NaN</td>\n",
       "      <td>NaN</td>\n",
       "      <td>NaN</td>\n",
       "      <td>0</td>\n",
       "      <td>2</td>\n",
       "      <td>2008</td>\n",
       "      <td>WD</td>\n",
       "      <td>Normal</td>\n",
       "      <td>208500</td>\n",
       "    </tr>\n",
       "    <tr>\n",
       "      <th>1</th>\n",
       "      <td>2</td>\n",
       "      <td>20</td>\n",
       "      <td>RL</td>\n",
       "      <td>80.0</td>\n",
       "      <td>9600</td>\n",
       "      <td>Pave</td>\n",
       "      <td>NaN</td>\n",
       "      <td>Reg</td>\n",
       "      <td>Lvl</td>\n",
       "      <td>AllPub</td>\n",
       "      <td>...</td>\n",
       "      <td>0</td>\n",
       "      <td>NaN</td>\n",
       "      <td>NaN</td>\n",
       "      <td>NaN</td>\n",
       "      <td>0</td>\n",
       "      <td>5</td>\n",
       "      <td>2007</td>\n",
       "      <td>WD</td>\n",
       "      <td>Normal</td>\n",
       "      <td>181500</td>\n",
       "    </tr>\n",
       "    <tr>\n",
       "      <th>2</th>\n",
       "      <td>3</td>\n",
       "      <td>60</td>\n",
       "      <td>RL</td>\n",
       "      <td>68.0</td>\n",
       "      <td>11250</td>\n",
       "      <td>Pave</td>\n",
       "      <td>NaN</td>\n",
       "      <td>IR1</td>\n",
       "      <td>Lvl</td>\n",
       "      <td>AllPub</td>\n",
       "      <td>...</td>\n",
       "      <td>0</td>\n",
       "      <td>NaN</td>\n",
       "      <td>NaN</td>\n",
       "      <td>NaN</td>\n",
       "      <td>0</td>\n",
       "      <td>9</td>\n",
       "      <td>2008</td>\n",
       "      <td>WD</td>\n",
       "      <td>Normal</td>\n",
       "      <td>223500</td>\n",
       "    </tr>\n",
       "    <tr>\n",
       "      <th>3</th>\n",
       "      <td>4</td>\n",
       "      <td>70</td>\n",
       "      <td>RL</td>\n",
       "      <td>60.0</td>\n",
       "      <td>9550</td>\n",
       "      <td>Pave</td>\n",
       "      <td>NaN</td>\n",
       "      <td>IR1</td>\n",
       "      <td>Lvl</td>\n",
       "      <td>AllPub</td>\n",
       "      <td>...</td>\n",
       "      <td>0</td>\n",
       "      <td>NaN</td>\n",
       "      <td>NaN</td>\n",
       "      <td>NaN</td>\n",
       "      <td>0</td>\n",
       "      <td>2</td>\n",
       "      <td>2006</td>\n",
       "      <td>WD</td>\n",
       "      <td>Abnorml</td>\n",
       "      <td>140000</td>\n",
       "    </tr>\n",
       "    <tr>\n",
       "      <th>4</th>\n",
       "      <td>5</td>\n",
       "      <td>60</td>\n",
       "      <td>RL</td>\n",
       "      <td>84.0</td>\n",
       "      <td>14260</td>\n",
       "      <td>Pave</td>\n",
       "      <td>NaN</td>\n",
       "      <td>IR1</td>\n",
       "      <td>Lvl</td>\n",
       "      <td>AllPub</td>\n",
       "      <td>...</td>\n",
       "      <td>0</td>\n",
       "      <td>NaN</td>\n",
       "      <td>NaN</td>\n",
       "      <td>NaN</td>\n",
       "      <td>0</td>\n",
       "      <td>12</td>\n",
       "      <td>2008</td>\n",
       "      <td>WD</td>\n",
       "      <td>Normal</td>\n",
       "      <td>250000</td>\n",
       "    </tr>\n",
       "  </tbody>\n",
       "</table>\n",
       "<p>5 rows × 81 columns</p>\n",
       "</div>"
      ],
      "text/plain": [
       "   Id  MSSubClass MSZoning  LotFrontage  LotArea Street Alley LotShape  \\\n",
       "0   1          60       RL         65.0     8450   Pave   NaN      Reg   \n",
       "1   2          20       RL         80.0     9600   Pave   NaN      Reg   \n",
       "2   3          60       RL         68.0    11250   Pave   NaN      IR1   \n",
       "3   4          70       RL         60.0     9550   Pave   NaN      IR1   \n",
       "4   5          60       RL         84.0    14260   Pave   NaN      IR1   \n",
       "\n",
       "  LandContour Utilities    ...     PoolArea PoolQC Fence MiscFeature MiscVal  \\\n",
       "0         Lvl    AllPub    ...            0    NaN   NaN         NaN       0   \n",
       "1         Lvl    AllPub    ...            0    NaN   NaN         NaN       0   \n",
       "2         Lvl    AllPub    ...            0    NaN   NaN         NaN       0   \n",
       "3         Lvl    AllPub    ...            0    NaN   NaN         NaN       0   \n",
       "4         Lvl    AllPub    ...            0    NaN   NaN         NaN       0   \n",
       "\n",
       "  MoSold YrSold  SaleType  SaleCondition  SalePrice  \n",
       "0      2   2008        WD         Normal     208500  \n",
       "1      5   2007        WD         Normal     181500  \n",
       "2      9   2008        WD         Normal     223500  \n",
       "3      2   2006        WD        Abnorml     140000  \n",
       "4     12   2008        WD         Normal     250000  \n",
       "\n",
       "[5 rows x 81 columns]"
      ]
     },
     "execution_count": 60,
     "metadata": {},
     "output_type": "execute_result"
    }
   ],
   "source": [
    "train.head()"
   ]
  },
  {
   "cell_type": "code",
   "execution_count": 61,
   "metadata": {
    "_cell_guid": "cb2d88d7-7f76-4b04-d28b-d2c315ae4346",
    "_execution_state": "idle",
    "_uuid": "32d7067e4e8cd8f8c00a211770cb752f97427f5b"
   },
   "outputs": [
    {
     "data": {
      "text/html": [
       "<div>\n",
       "<style>\n",
       "    .dataframe thead tr:only-child th {\n",
       "        text-align: right;\n",
       "    }\n",
       "\n",
       "    .dataframe thead th {\n",
       "        text-align: left;\n",
       "    }\n",
       "\n",
       "    .dataframe tbody tr th {\n",
       "        vertical-align: top;\n",
       "    }\n",
       "</style>\n",
       "<table border=\"1\" class=\"dataframe\">\n",
       "  <thead>\n",
       "    <tr style=\"text-align: right;\">\n",
       "      <th></th>\n",
       "      <th>MSSubClass</th>\n",
       "      <th>MSZoning</th>\n",
       "      <th>LotFrontage</th>\n",
       "      <th>LotArea</th>\n",
       "      <th>Street</th>\n",
       "      <th>Alley</th>\n",
       "      <th>LotShape</th>\n",
       "      <th>LandContour</th>\n",
       "      <th>Utilities</th>\n",
       "      <th>LotConfig</th>\n",
       "      <th>...</th>\n",
       "      <th>ScreenPorch</th>\n",
       "      <th>PoolArea</th>\n",
       "      <th>PoolQC</th>\n",
       "      <th>Fence</th>\n",
       "      <th>MiscFeature</th>\n",
       "      <th>MiscVal</th>\n",
       "      <th>MoSold</th>\n",
       "      <th>YrSold</th>\n",
       "      <th>SaleType</th>\n",
       "      <th>SaleCondition</th>\n",
       "    </tr>\n",
       "  </thead>\n",
       "  <tbody>\n",
       "    <tr>\n",
       "      <th>0</th>\n",
       "      <td>60</td>\n",
       "      <td>RL</td>\n",
       "      <td>65.0</td>\n",
       "      <td>8450</td>\n",
       "      <td>Pave</td>\n",
       "      <td>NaN</td>\n",
       "      <td>Reg</td>\n",
       "      <td>Lvl</td>\n",
       "      <td>AllPub</td>\n",
       "      <td>Inside</td>\n",
       "      <td>...</td>\n",
       "      <td>0</td>\n",
       "      <td>0</td>\n",
       "      <td>NaN</td>\n",
       "      <td>NaN</td>\n",
       "      <td>NaN</td>\n",
       "      <td>0</td>\n",
       "      <td>2</td>\n",
       "      <td>2008</td>\n",
       "      <td>WD</td>\n",
       "      <td>Normal</td>\n",
       "    </tr>\n",
       "    <tr>\n",
       "      <th>1</th>\n",
       "      <td>20</td>\n",
       "      <td>RL</td>\n",
       "      <td>80.0</td>\n",
       "      <td>9600</td>\n",
       "      <td>Pave</td>\n",
       "      <td>NaN</td>\n",
       "      <td>Reg</td>\n",
       "      <td>Lvl</td>\n",
       "      <td>AllPub</td>\n",
       "      <td>FR2</td>\n",
       "      <td>...</td>\n",
       "      <td>0</td>\n",
       "      <td>0</td>\n",
       "      <td>NaN</td>\n",
       "      <td>NaN</td>\n",
       "      <td>NaN</td>\n",
       "      <td>0</td>\n",
       "      <td>5</td>\n",
       "      <td>2007</td>\n",
       "      <td>WD</td>\n",
       "      <td>Normal</td>\n",
       "    </tr>\n",
       "    <tr>\n",
       "      <th>2</th>\n",
       "      <td>60</td>\n",
       "      <td>RL</td>\n",
       "      <td>68.0</td>\n",
       "      <td>11250</td>\n",
       "      <td>Pave</td>\n",
       "      <td>NaN</td>\n",
       "      <td>IR1</td>\n",
       "      <td>Lvl</td>\n",
       "      <td>AllPub</td>\n",
       "      <td>Inside</td>\n",
       "      <td>...</td>\n",
       "      <td>0</td>\n",
       "      <td>0</td>\n",
       "      <td>NaN</td>\n",
       "      <td>NaN</td>\n",
       "      <td>NaN</td>\n",
       "      <td>0</td>\n",
       "      <td>9</td>\n",
       "      <td>2008</td>\n",
       "      <td>WD</td>\n",
       "      <td>Normal</td>\n",
       "    </tr>\n",
       "    <tr>\n",
       "      <th>3</th>\n",
       "      <td>70</td>\n",
       "      <td>RL</td>\n",
       "      <td>60.0</td>\n",
       "      <td>9550</td>\n",
       "      <td>Pave</td>\n",
       "      <td>NaN</td>\n",
       "      <td>IR1</td>\n",
       "      <td>Lvl</td>\n",
       "      <td>AllPub</td>\n",
       "      <td>Corner</td>\n",
       "      <td>...</td>\n",
       "      <td>0</td>\n",
       "      <td>0</td>\n",
       "      <td>NaN</td>\n",
       "      <td>NaN</td>\n",
       "      <td>NaN</td>\n",
       "      <td>0</td>\n",
       "      <td>2</td>\n",
       "      <td>2006</td>\n",
       "      <td>WD</td>\n",
       "      <td>Abnorml</td>\n",
       "    </tr>\n",
       "    <tr>\n",
       "      <th>4</th>\n",
       "      <td>60</td>\n",
       "      <td>RL</td>\n",
       "      <td>84.0</td>\n",
       "      <td>14260</td>\n",
       "      <td>Pave</td>\n",
       "      <td>NaN</td>\n",
       "      <td>IR1</td>\n",
       "      <td>Lvl</td>\n",
       "      <td>AllPub</td>\n",
       "      <td>FR2</td>\n",
       "      <td>...</td>\n",
       "      <td>0</td>\n",
       "      <td>0</td>\n",
       "      <td>NaN</td>\n",
       "      <td>NaN</td>\n",
       "      <td>NaN</td>\n",
       "      <td>0</td>\n",
       "      <td>12</td>\n",
       "      <td>2008</td>\n",
       "      <td>WD</td>\n",
       "      <td>Normal</td>\n",
       "    </tr>\n",
       "  </tbody>\n",
       "</table>\n",
       "<p>5 rows × 79 columns</p>\n",
       "</div>"
      ],
      "text/plain": [
       "   MSSubClass MSZoning  LotFrontage  LotArea Street Alley LotShape  \\\n",
       "0          60       RL         65.0     8450   Pave   NaN      Reg   \n",
       "1          20       RL         80.0     9600   Pave   NaN      Reg   \n",
       "2          60       RL         68.0    11250   Pave   NaN      IR1   \n",
       "3          70       RL         60.0     9550   Pave   NaN      IR1   \n",
       "4          60       RL         84.0    14260   Pave   NaN      IR1   \n",
       "\n",
       "  LandContour Utilities LotConfig      ...       ScreenPorch PoolArea PoolQC  \\\n",
       "0         Lvl    AllPub    Inside      ...                 0        0    NaN   \n",
       "1         Lvl    AllPub       FR2      ...                 0        0    NaN   \n",
       "2         Lvl    AllPub    Inside      ...                 0        0    NaN   \n",
       "3         Lvl    AllPub    Corner      ...                 0        0    NaN   \n",
       "4         Lvl    AllPub       FR2      ...                 0        0    NaN   \n",
       "\n",
       "  Fence MiscFeature MiscVal  MoSold  YrSold  SaleType  SaleCondition  \n",
       "0   NaN         NaN       0       2    2008        WD         Normal  \n",
       "1   NaN         NaN       0       5    2007        WD         Normal  \n",
       "2   NaN         NaN       0       9    2008        WD         Normal  \n",
       "3   NaN         NaN       0       2    2006        WD        Abnorml  \n",
       "4   NaN         NaN       0      12    2008        WD         Normal  \n",
       "\n",
       "[5 rows x 79 columns]"
      ]
     },
     "execution_count": 61,
     "metadata": {},
     "output_type": "execute_result"
    }
   ],
   "source": [
    "all_data = pd.concat((train.loc[:,'MSSubClass':'SaleCondition'],\n",
    "                      test.loc[:,'MSSubClass':'SaleCondition']))\n",
    "all_data.head()"
   ]
  },
  {
   "cell_type": "markdown",
   "metadata": {
    "_cell_guid": "29fa13df-61e8-b0c2-b3a7-ea92bffd4396",
    "_uuid": "9e993b2b9486f934474659106cb7236444b1a2aa"
   },
   "source": [
    "###Data preprocessing: \n",
    "We're not going to do anything fancy here: \n",
    " \n",
    "- First I'll transform the skewed numeric features by taking log(feature + 1) - this will make the features more normal    \n",
    "- Create Dummy variables for the categorical features    \n",
    "- Replace the numeric missing values (NaN's) with the mean of their respective columns"
   ]
  },
  {
   "cell_type": "code",
   "execution_count": 62,
   "metadata": {
    "_cell_guid": "4ed54771-95c4-00e7-b2cd-569d17862878",
    "_execution_state": "idle",
    "_uuid": "a2bfe56533cd523675de17dc99c0cb5ef90df40e"
   },
   "outputs": [
    {
     "data": {
      "text/html": [
       "<div>\n",
       "<style>\n",
       "    .dataframe thead tr:only-child th {\n",
       "        text-align: right;\n",
       "    }\n",
       "\n",
       "    .dataframe thead th {\n",
       "        text-align: left;\n",
       "    }\n",
       "\n",
       "    .dataframe tbody tr th {\n",
       "        vertical-align: top;\n",
       "    }\n",
       "</style>\n",
       "<table border=\"1\" class=\"dataframe\">\n",
       "  <thead>\n",
       "    <tr style=\"text-align: right;\">\n",
       "      <th></th>\n",
       "      <th>MSSubClass</th>\n",
       "      <th>LotFrontage</th>\n",
       "      <th>LotArea</th>\n",
       "      <th>MasVnrArea</th>\n",
       "      <th>BsmtFinSF1</th>\n",
       "      <th>BsmtFinSF2</th>\n",
       "      <th>BsmtUnfSF</th>\n",
       "      <th>TotalBsmtSF</th>\n",
       "      <th>1stFlrSF</th>\n",
       "      <th>2ndFlrSF</th>\n",
       "      <th>...</th>\n",
       "      <th>GrLivArea</th>\n",
       "      <th>BsmtHalfBath</th>\n",
       "      <th>KitchenAbvGr</th>\n",
       "      <th>WoodDeckSF</th>\n",
       "      <th>OpenPorchSF</th>\n",
       "      <th>EnclosedPorch</th>\n",
       "      <th>3SsnPorch</th>\n",
       "      <th>ScreenPorch</th>\n",
       "      <th>PoolArea</th>\n",
       "      <th>MiscVal</th>\n",
       "    </tr>\n",
       "  </thead>\n",
       "  <tbody>\n",
       "    <tr>\n",
       "      <th>0</th>\n",
       "      <td>4.110874</td>\n",
       "      <td>4.189655</td>\n",
       "      <td>9.042040</td>\n",
       "      <td>5.283204</td>\n",
       "      <td>6.561031</td>\n",
       "      <td>0.0</td>\n",
       "      <td>5.017280</td>\n",
       "      <td>6.753438</td>\n",
       "      <td>6.753438</td>\n",
       "      <td>6.751101</td>\n",
       "      <td>...</td>\n",
       "      <td>7.444833</td>\n",
       "      <td>0.000000</td>\n",
       "      <td>0.693147</td>\n",
       "      <td>0.000000</td>\n",
       "      <td>4.127134</td>\n",
       "      <td>0.000000</td>\n",
       "      <td>0.0</td>\n",
       "      <td>0.0</td>\n",
       "      <td>0.0</td>\n",
       "      <td>0.0</td>\n",
       "    </tr>\n",
       "    <tr>\n",
       "      <th>1</th>\n",
       "      <td>3.044522</td>\n",
       "      <td>4.394449</td>\n",
       "      <td>9.169623</td>\n",
       "      <td>0.000000</td>\n",
       "      <td>6.886532</td>\n",
       "      <td>0.0</td>\n",
       "      <td>5.652489</td>\n",
       "      <td>7.141245</td>\n",
       "      <td>7.141245</td>\n",
       "      <td>0.000000</td>\n",
       "      <td>...</td>\n",
       "      <td>7.141245</td>\n",
       "      <td>0.693147</td>\n",
       "      <td>0.693147</td>\n",
       "      <td>5.700444</td>\n",
       "      <td>0.000000</td>\n",
       "      <td>0.000000</td>\n",
       "      <td>0.0</td>\n",
       "      <td>0.0</td>\n",
       "      <td>0.0</td>\n",
       "      <td>0.0</td>\n",
       "    </tr>\n",
       "    <tr>\n",
       "      <th>2</th>\n",
       "      <td>4.110874</td>\n",
       "      <td>4.234107</td>\n",
       "      <td>9.328212</td>\n",
       "      <td>5.093750</td>\n",
       "      <td>6.188264</td>\n",
       "      <td>0.0</td>\n",
       "      <td>6.075346</td>\n",
       "      <td>6.825460</td>\n",
       "      <td>6.825460</td>\n",
       "      <td>6.765039</td>\n",
       "      <td>...</td>\n",
       "      <td>7.488294</td>\n",
       "      <td>0.000000</td>\n",
       "      <td>0.693147</td>\n",
       "      <td>0.000000</td>\n",
       "      <td>3.761200</td>\n",
       "      <td>0.000000</td>\n",
       "      <td>0.0</td>\n",
       "      <td>0.0</td>\n",
       "      <td>0.0</td>\n",
       "      <td>0.0</td>\n",
       "    </tr>\n",
       "    <tr>\n",
       "      <th>3</th>\n",
       "      <td>4.262680</td>\n",
       "      <td>4.110874</td>\n",
       "      <td>9.164401</td>\n",
       "      <td>0.000000</td>\n",
       "      <td>5.379897</td>\n",
       "      <td>0.0</td>\n",
       "      <td>6.293419</td>\n",
       "      <td>6.629363</td>\n",
       "      <td>6.869014</td>\n",
       "      <td>6.629363</td>\n",
       "      <td>...</td>\n",
       "      <td>7.448916</td>\n",
       "      <td>0.000000</td>\n",
       "      <td>0.693147</td>\n",
       "      <td>0.000000</td>\n",
       "      <td>3.583519</td>\n",
       "      <td>5.609472</td>\n",
       "      <td>0.0</td>\n",
       "      <td>0.0</td>\n",
       "      <td>0.0</td>\n",
       "      <td>0.0</td>\n",
       "    </tr>\n",
       "    <tr>\n",
       "      <th>4</th>\n",
       "      <td>4.110874</td>\n",
       "      <td>4.442651</td>\n",
       "      <td>9.565284</td>\n",
       "      <td>5.860786</td>\n",
       "      <td>6.486161</td>\n",
       "      <td>0.0</td>\n",
       "      <td>6.196444</td>\n",
       "      <td>7.044033</td>\n",
       "      <td>7.044033</td>\n",
       "      <td>6.960348</td>\n",
       "      <td>...</td>\n",
       "      <td>7.695758</td>\n",
       "      <td>0.000000</td>\n",
       "      <td>0.693147</td>\n",
       "      <td>5.262690</td>\n",
       "      <td>4.442651</td>\n",
       "      <td>0.000000</td>\n",
       "      <td>0.0</td>\n",
       "      <td>0.0</td>\n",
       "      <td>0.0</td>\n",
       "      <td>0.0</td>\n",
       "    </tr>\n",
       "  </tbody>\n",
       "</table>\n",
       "<p>5 rows × 21 columns</p>\n",
       "</div>"
      ],
      "text/plain": [
       "   MSSubClass  LotFrontage   LotArea  MasVnrArea  BsmtFinSF1  BsmtFinSF2  \\\n",
       "0    4.110874     4.189655  9.042040    5.283204    6.561031         0.0   \n",
       "1    3.044522     4.394449  9.169623    0.000000    6.886532         0.0   \n",
       "2    4.110874     4.234107  9.328212    5.093750    6.188264         0.0   \n",
       "3    4.262680     4.110874  9.164401    0.000000    5.379897         0.0   \n",
       "4    4.110874     4.442651  9.565284    5.860786    6.486161         0.0   \n",
       "\n",
       "   BsmtUnfSF  TotalBsmtSF  1stFlrSF  2ndFlrSF   ...     GrLivArea  \\\n",
       "0   5.017280     6.753438  6.753438  6.751101   ...      7.444833   \n",
       "1   5.652489     7.141245  7.141245  0.000000   ...      7.141245   \n",
       "2   6.075346     6.825460  6.825460  6.765039   ...      7.488294   \n",
       "3   6.293419     6.629363  6.869014  6.629363   ...      7.448916   \n",
       "4   6.196444     7.044033  7.044033  6.960348   ...      7.695758   \n",
       "\n",
       "   BsmtHalfBath  KitchenAbvGr  WoodDeckSF  OpenPorchSF  EnclosedPorch  \\\n",
       "0      0.000000      0.693147    0.000000     4.127134       0.000000   \n",
       "1      0.693147      0.693147    5.700444     0.000000       0.000000   \n",
       "2      0.000000      0.693147    0.000000     3.761200       0.000000   \n",
       "3      0.000000      0.693147    0.000000     3.583519       5.609472   \n",
       "4      0.000000      0.693147    5.262690     4.442651       0.000000   \n",
       "\n",
       "   3SsnPorch  ScreenPorch  PoolArea  MiscVal  \n",
       "0        0.0          0.0       0.0      0.0  \n",
       "1        0.0          0.0       0.0      0.0  \n",
       "2        0.0          0.0       0.0      0.0  \n",
       "3        0.0          0.0       0.0      0.0  \n",
       "4        0.0          0.0       0.0      0.0  \n",
       "\n",
       "[5 rows x 21 columns]"
      ]
     },
     "execution_count": 62,
     "metadata": {},
     "output_type": "execute_result"
    }
   ],
   "source": [
    "#log transform the target:\n",
    "train[\"SalePrice\"] = np.log1p(train[\"SalePrice\"])\n",
    "\n",
    "#log transform skewed numeric features:\n",
    "numeric_feats = all_data.dtypes[all_data.dtypes != \"object\"].index\n",
    "\n",
    "skewed_feats = train[numeric_feats].apply(lambda x: skew(x.dropna())) #compute skewness\n",
    "skewed_feats = skewed_feats[skewed_feats > 0.75]\n",
    "skewed_feats = skewed_feats.index\n",
    "\n",
    "all_data[skewed_feats] = np.log1p(all_data[skewed_feats])\n",
    "all_data[skewed_feats].head()"
   ]
  },
  {
   "cell_type": "code",
   "execution_count": 63,
   "metadata": {
    "_cell_guid": "82886739-eee6-5d7a-4be9-e1fe6ac059f1",
    "_execution_state": "idle",
    "_uuid": "c0b4c4ed8c3dbd681ddcfbf23b104d0ed7a81832",
    "collapsed": true
   },
   "outputs": [],
   "source": [
    "from sklearn.linear_model import LassoCV, LassoLarsCV\n",
    "from sklearn.model_selection import cross_val_score\n",
    "\n",
    "def rmse_cv(model):\n",
    "    rmse= np.sqrt(-cross_val_score(model, X_train, y, scoring=\"neg_mean_squared_error\", cv = 5))\n",
    "    return(rmse)\n",
    "\n",
    "def r2_cv(model):\n",
    "    return cross_val_score(model, X_train, y, scoring=\"r2\", cv = 5)"
   ]
  },
  {
   "cell_type": "code",
   "execution_count": 74,
   "metadata": {
    "collapsed": true
   },
   "outputs": [],
   "source": [
    "def add_residential(data):\n",
    "    copy = data.copy()\n",
    "    copy[\"enc_quiet_residential\"] = copy[\"MSZoning\"].apply(lambda x:1 if x == \"RL\" else 0)\n",
    "    return copy"
   ]
  },
  {
   "cell_type": "code",
   "execution_count": 104,
   "metadata": {
    "_cell_guid": "5d417300-0deb-3353-cabf-95f75af62678",
    "_execution_state": "idle",
    "_uuid": "f8062861da80ab6809a6f109bea1c9bc958d1909"
   },
   "outputs": [
    {
     "name": "stdout",
     "output_type": "stream",
     "text": [
      "type                     R squared      RMSE\n",
      "All numeric               0.875358  0.13999\n",
      "Numeric + res             0.875358  0.13999\n",
      "Numeric - OverallQual     0.850025  0.153573\n",
      "Numeric + features        0.903287  0.123144\n"
     ]
    }
   ],
   "source": [
    "table = []\n",
    "headers = [\"type\", \"R squared\", \"RMSE\"]\n",
    "\n",
    "my_data = all_data.select_dtypes(include=[np.number])\n",
    "my_data = my_data.fillna(my_data.mean())\n",
    "X_train = my_data[:train.shape[0]]\n",
    "y = train.SalePrice\n",
    "\n",
    "model_lasso = LassoCV(alphas = [1, 0.1, 0.001, 0.0005]).fit(X_train, y)\n",
    "table.append([\"All numeric\", r2_cv(model_lasso).mean(),  rmse_cv(model_lasso).mean()])\n",
    "\n",
    "my_data = add_residential(all_data)\n",
    "my_data = all_data.select_dtypes(include=[np.number])\n",
    "my_data = my_data.fillna(my_data.mean())\n",
    "X_train = my_data[:train.shape[0]]\n",
    "y = train.SalePrice\n",
    "\n",
    "model_lasso = LassoCV(alphas = [1, 0.1, 0.001, 0.0005]).fit(X_train, y)\n",
    "table.append([\"Numeric + res\", r2_cv(model_lasso).mean(),  rmse_cv(model_lasso).mean()])\n",
    "\n",
    "my_data = all_data.select_dtypes(include=[np.number])\n",
    "my_data = my_data.drop([\"OverallQual\"], axis=1)\n",
    "my_data = my_data.fillna(my_data.mean())\n",
    "X_train = my_data[:train.shape[0]]\n",
    "y = train.SalePrice\n",
    "\n",
    "model_lasso = LassoCV(alphas = [1, 0.1, 0.001, 0.0005]).fit(X_train, y)\n",
    "table.append([\"Numeric - OverallQual\", r2_cv(model_lasso).mean(),  rmse_cv(model_lasso).mean()])\n",
    "\n",
    "my_data = pd.get_dummies(all_data)\n",
    "my_data = my_data.fillna(my_data.mean())\n",
    "X_train = my_data[:train.shape[0]]\n",
    "y = train.SalePrice\n",
    "\n",
    "model_lasso = LassoCV(alphas = [1, 0.1, 0.001, 0.0005]).fit(X_train, y)\n",
    "table.append([\"Numeric + features\", r2_cv(model_lasso).mean(),  rmse_cv(model_lasso).mean()])\n",
    "\n",
    "print(tabulate(table, headers, tablefmt=\"plain\"))"
   ]
  },
  {
   "cell_type": "markdown",
   "metadata": {
    "_cell_guid": "cc4e3014-23b7-2971-ddb0-f67b03f83558",
    "_uuid": "a5ca55e00384a0a805015d4ef6f7e952523e7206"
   },
   "source": [
    "###Models\n",
    "\n",
    "Now we are going to use regularized linear regression models from the scikit learn module. I'm going to try both l_1(Lasso) and l_2(Ridge) regularization. I'll also define a function that returns the cross-validation rmse error so we can evaluate our models and pick the best tuning par"
   ]
  },
  {
   "cell_type": "markdown",
   "metadata": {
    "_cell_guid": "abc5f43e-1c38-4c1e-cb70-a95c8d9be8de",
    "_uuid": "da8b819338b95acc1e4a58921bfaeaf45afb1e6c"
   },
   "source": [
    "Nice! The lasso performs even better so we'll just use this one to predict on the test set. Another neat thing about the Lasso is that it does feature selection for you - setting coefficients of features it deems unimportant to zero. Let's take a look at the coefficients:"
   ]
  },
  {
   "cell_type": "code",
   "execution_count": 143,
   "metadata": {
    "collapsed": true
   },
   "outputs": [],
   "source": [
    "def enc_condition(x): return 1 if x == 'Partial' else 0\n",
    "\n",
    "\n",
    "def foundation(x): return 1 if x == 'PConc' else 0\n",
    "\n",
    "\n",
    "def misc_feature(x): return 1 if x == 'TenC' else 0\n",
    "\n",
    "\n",
    "def fireplace(x): return 1 if x == \"Ex\" else 0\n",
    "\n",
    "\n",
    "def exterior(x):\n",
    "    if x == \"Ex\":\n",
    "        return 5\n",
    "    elif x == \"Gd\":\n",
    "        return 4\n",
    "    elif x == \"TA\":\n",
    "        return 3\n",
    "    elif x == \"Fa\":\n",
    "        return 2\n",
    "    else:\n",
    "        return 1\n",
    "\n",
    "def residential(x): return 1 if x == \"RL\" else 0\n",
    "\n",
    "def add_features(data):\n",
    "    new_data = data.copy()\n",
    "    new_data['enc_street'] = pd.get_dummies(new_data.Street, drop_first=True).astype(np.number)\n",
    "    new_data['enc_condition'] = new_data.SaleCondition.apply(enc_condition).astype(np.number)\n",
    "    new_data['enc_foundation'] = new_data.Foundation.apply(foundation).astype(np.number)\n",
    "    new_data['enc_misc_feature'] = new_data.MiscFeature.apply(misc_feature).astype(np.number)\n",
    "    new_data['enc_central_air'] = pd.get_dummies(new_data.CentralAir, drop_first=True).astype(np.number)\n",
    "    new_data['enc_fireplace'] = new_data.FireplaceQu.apply(misc_feature).astype(np.number)\n",
    "    new_data['enc_exterior'] = new_data.ExterCond.apply(exterior).astype(np.number)\n",
    "    new_data[\"enc_quiet_residential\"] = new_data[\"MSZoning\"].apply(residential)\n",
    "    return new_data"
   ]
  },
  {
   "cell_type": "code",
   "execution_count": 186,
   "metadata": {},
   "outputs": [],
   "source": [
    "def add_conditions(data):\n",
    "    copy = data.copy()\n",
    "    copy[\"enc_artery\"] = (copy[\"Condition1\"] == \"Artery\") | (copy[\"Condition2\"] == \"Artery\")\n",
    "    copy[\"enc_feeder\"] = (copy[\"Condition1\"] == \"Feedr\") | (copy[\"Condition2\"] == \"Feedr\")\n",
    "    copy[\"enc_normal\"] = (copy[\"Condition1\"] == \"Norm\") | (copy[\"Condition2\"] == \"Norm\")\n",
    "    copy[\"enc_RRNn\"] = (copy[\"Condition1\"] == \"RRNn\") | (copy[\"Condition2\"] == \"RRNn\")\n",
    "    copy[\"enc_RRAn\"] = (copy[\"Condition1\"] == \"RRAn\") | (copy[\"Condition2\"] == \"RRAn\")\n",
    "    copy[\"enc_PosN\"] = (copy[\"Condition1\"] == \"PosN\") | (copy[\"Condition2\"] == \"PosN\")\n",
    "    copy[\"enc_PosA\"] = (copy[\"Condition1\"] == \"PosA\") | (copy[\"Condition2\"] == \"PosA\")\n",
    "    copy[\"enc_RRNe\"] = (copy[\"Condition1\"] == \"RRNe\") | (copy[\"Condition2\"] == \"RRNe\")\n",
    "    copy[\"enc_RRAe\"] = (copy[\"Condition1\"] == \"RRAe\") | (copy[\"Condition2\"] == \"RRAe\")\n",
    "    return copy\n",
    "\n",
    "# Artery\tAdjacent to arterial street\n",
    "#        Feedr\tAdjacent to feeder street\t\n",
    "#        Norm\tNormal\t\n",
    "#        RRNn\tWithin 200' of North-South Railroad\n",
    "#        RRAn\tAdjacent to North-South Railroad\n",
    "#        PosN\tNear positive off-site feature--park, greenbelt, etc.\n",
    "#        PosA\tAdjacent to postive off-site feature\n",
    "#        RRNe\tWithin 200' of East-West Railroad\n",
    "#        RRAe"
   ]
  },
  {
   "cell_type": "code",
   "execution_count": 216,
   "metadata": {},
   "outputs": [
    {
     "data": {
      "text/plain": [
       "{'Blmngtn': {'income': 95256,\n",
       "  'numberSchools': 4,\n",
       "  'schools': 'Average',\n",
       "  'tax': 3742},\n",
       " 'Blueste': {'income': 46417,\n",
       "  'numberSchools': 8,\n",
       "  'schools': 'Average',\n",
       "  'tax': 3709},\n",
       " 'BrDale': {'income': 45588,\n",
       "  'numberSchools': 8,\n",
       "  'schools': 'Average',\n",
       "  'tax': 1785},\n",
       " 'BrkSide': {'income': 65263,\n",
       "  'numberSchools': 8,\n",
       "  'schools': 'Average',\n",
       "  'tax': 2078},\n",
       " 'Crawfor': {'income': 118304,\n",
       "  'numberSchools': 8,\n",
       "  'schools': 'Average',\n",
       "  'tax': 2490},\n",
       " 'Edwards': {'income': 36689,\n",
       "  'numberSchools': 8,\n",
       "  'schools': 'Average',\n",
       "  'tax': 2033},\n",
       " 'NoRidge': {'income': 88438,\n",
       "  'numberSchools': 8,\n",
       "  'schools': 'Average',\n",
       "  'tax': 2342},\n",
       " 'NridgHt': {'income': 95256,\n",
       "  'numberSchools': 4,\n",
       "  'schools': 'Average',\n",
       "  'tax': 5478},\n",
       " 'OldTown': {'income': 37708,\n",
       "  'numberSchools': 8,\n",
       "  'schools': 'Average',\n",
       "  'tax': 2342},\n",
       " 'Somerst': {'income': 84600,\n",
       "  'numberSchools': 8,\n",
       "  'schools': 'Average',\n",
       "  'tax': 2314},\n",
       " 'StoneBr': {'income': 95256,\n",
       "  'numberSchools': 4,\n",
       "  'schools': 'Average',\n",
       "  'tax': 4369}}"
      ]
     },
     "execution_count": 216,
     "metadata": {},
     "output_type": "execute_result"
    }
   ],
   "source": [
    "\n",
    "#        Blmngtn\tBloomington Heights https://www.addressreport.com/report/neighborhood/ames-ia/bloomington-heights-ames-ia/\n",
    "#        Blueste\tBluestem https://www.addressreport.com/report/neighborhood/ames-ia/country-club-heights-ames-ia/?display=true\n",
    "#        BrDale\tBriardale https://www.addressreport.com/report/neighborhood/ames-ia/briardale-square-ames-ia/\n",
    "#        BrkSide\tBrookside https://www.addressreport.com/report/neighborhood/ames-ia/grand-heights-ames-ia/?display=true\n",
    "#        ClearCr\tClear Creek\n",
    "#        CollgCr\tCollege Creek\n",
    "#        Crawfor\tCrawford     https://www.addressreport.com/report/neighborhood/ames-ia/elm-park-ames-ia/?display=true\n",
    "#        Edwards\tEdwards https://www.addressreport.com/report/neighborhood/ames-ia/south-fork-ames-ia/?display=true\n",
    "#        Gilbert\tGilbert \n",
    "#        IDOTRR\tIowa DOT and Rail Road\n",
    "#        MeadowV\tMeadow Village\n",
    "#        Mitchel\tMitchell \n",
    "#        Names\tNorth Ames\n",
    "#        NoRidge\tNorthridge https://www.addressreport.com/report/neighborhood/ames-ia/northridge-parkway-ames-ia/\n",
    "#        NPkVill\tNorthpark Villa\n",
    "#        NridgHt\tNorthridge Heights https://www.addressreport.com/report/neighborhood/ames-ia/northridge-heights-ames-ia/?display=true\n",
    "#        NWAmes\tNorthwest Ames\n",
    "#        OldTown\tOld Town https://www.addressreport.com/report/neighborhood/ames-ia/original-ames-ames-ia/\n",
    "#        SWISU\tSouth & West of Iowa State University\n",
    "#        Sawyer\tSawyer\n",
    "#        SawyerW\tSawyer West\n",
    "#        Somerst\tSomerset https://www.addressreport.com/report/neighborhood/ames-ia/somerset-ames-ia/\n",
    "#        StoneBr\tStone Brook https://www.addressreport.com/report/neighborhood/ames-ia/stone-brooke-ames-ia/\n",
    "#        Timber\tTimberland\n",
    "#        Veenker\tVeenker\n",
    "\n",
    "{ \"Blmngtn\": {\"income\": 95256, \"tax\": 3742, \"schools\": \"Average\", \"numberSchools\": 4}, \n",
    "  \"StoneBr\": {\"income\": 95256, \"tax\": 4369, \"schools\": \"Average\", \"numberSchools\": 4},\n",
    "  \"Crawfor\": {\"income\": 118304, \"tax\": 2490, \"schools\": \"Average\", \"numberSchools\": 8},\n",
    "  \"NridgHt\": {\"income\": 95256, \"tax\": 5478, \"schools\": \"Average\", \"numberSchools\": 4},\n",
    "  \"BrDale\": {\"income\": 45588, \"tax\": 1785, \"schools\": \"Average\", \"numberSchools\": 8},\n",
    "  \"Somerst\": {\"income\": 84600, \"tax\": 2314, \"schools\": \"Average\", \"numberSchools\": 8},\n",
    "  \"Blueste\": {\"income\": 46417, \"tax\": 3709, \"schools\": \"Average\", \"numberSchools\": 8},\n",
    "  \"BrkSide\": {\"income\": 65263, \"tax\": 2078, \"schools\": \"Average\", \"numberSchools\": 8},\n",
    "  \"Edwards\": {\"income\": 36689, \"tax\": 2033, \"schools\": \"Average\", \"numberSchools\": 8},\n",
    "  \"OldTown\": {\"income\": 37708, \"tax\": 2342, \"schools\": \"Average\", \"numberSchools\": 8},\n",
    "  \"NoRidge\": {\"income\": 88438, \"tax\": 2342, \"schools\": \"Average\", \"numberSchools\": 8},\n",
    "  \"ClearCr\": {\"income\": 94043, \"tax\": 5741, \"schools\": \"Average\", \"numberSchools\": 8},\n",
    "  \"CollgCr\": {\"income\": 66875, \"tax\": 2616, \"schools\": \"Average\", \"numberSchools\": 8},\n",
    "  \"CollgCr\": {\"income\": 95256, \"tax\": 3742, \"schools\": \"Average\", \"numberSchools\": 4}, \n",
    "  \"Veenker\": {\"income\": 84600, \"tax\": 3667, \"schools\": \"Average\", \"numberSchools\": 4}, \n",
    "  \"Timber\": {\"income\": 61100, \"tax\": 5043, \"schools\": \"Average\", \"numberSchools\": 4}, \n",
    "  \"Sawyer\": {\"income\": 69067, \"tax\": 2471, \"schools\": \"Average\", \"numberSchools\": 4}, \n",
    "  \"SawyerW\": {\"income\": 62446, \"tax\": 4034, \"schools\": \"Average\", \"numberSchools\": 4}, \n",
    "  \"SWISU\": {\"income\": 46417, \"tax\": 3709, \"schools\": \"Average\", \"numberSchools\": 4}, \n",
    "  \"NPkVill\": {\"income\": 41364, \"tax\": 2168, \"schools\": \"Average\", \"numberSchools\": 4}, \n",
    "  \"NWAmes\": {\"income\": 84100, \"tax\": 3275, \"schools\": \"Average\", \"numberSchools\": 4}, \n",
    "  \"Names\": {\"income\": 45588, \"tax\": 1913, \"schools\": \"Average\", \"numberSchools\": 4}, \n",
    "  \"MeadowV\": {\"income\": 53962, \"tax\": 1521, \"schools\": \"Average\", \"numberSchools\": 4}, \n",
    "  \"Mitchel\": {\"income\": 53962, \"tax\": 2035, \"schools\": \"Average\", \"numberSchools\": 4}, \n",
    "  \"IDOTRR\": {\"income\": 21040, \"tax\": 0, \"schools\": \"Average\", \"numberSchools\": 4}, \n",
    "}\n",
    "    \n",
    "    \n",
    "    "
   ]
  },
  {
   "cell_type": "code",
   "execution_count": 213,
   "metadata": {
    "_cell_guid": "c7be87ca-412a-cb19-1524-cd94cf698d44",
    "_execution_state": "busy",
    "_uuid": "220d0bec62540e495041430d6d3bf648db755ba2",
    "scrolled": true
   },
   "outputs": [
    {
     "name": "stdout",
     "output_type": "stream",
     "text": [
      "Numeric + features 0.89987800791 0.125436674097\n",
      "Lasso picked 112 variables and eliminated the other 171 variables\n"
     ]
    },
    {
     "data": {
      "text/plain": [
       "<matplotlib.text.Text at 0x12379e3c8>"
      ]
     },
     "execution_count": 213,
     "metadata": {},
     "output_type": "execute_result"
    },
    {
     "data": {
      "image/png": "[encoded data removed]",
      "text/plain": [
       "<matplotlib.figure.Figure at 0x123d83ef0>"
      ]
     },
     "metadata": {
      "image/png": {
       "height": 589,
       "width": 576
      }
     },
     "output_type": "display_data"
    }
   ],
   "source": [
    "cols = ['OverallCond', 'GrLivArea', 'GarageArea', \"YearBuilt\", \"enc_street\", \\\n",
    "        \"enc_condition\", \"enc_foundation\", \"enc_misc_feature\", \"enc_central_air\", \"enc_fireplace\", \\\n",
    "        \"enc_exterior\", \"enc_quiet_residential\"]\n",
    "\n",
    "my_data = add_conditions(add_features(all_data))\n",
    "my_data = my_data.drop([ \"Condition2\", \"Condition1\", \"MSZoning\"], axis=1) \n",
    "my_data = pd.get_dummies(my_data)\n",
    "my_data = my_data.fillna(my_data.mean())\n",
    "\n",
    "X_train = my_data[:train.shape[0]]\n",
    "y = train.SalePrice\n",
    "\n",
    "model_lasso = LassoCV(alphas = [1, 0.1, 0.001, 0.0005]).fit(X_train, y)\n",
    "print(\"Numeric + features\", r2_cv(model_lasso).mean(),  rmse_cv(model_lasso).mean())\n",
    "\n",
    "coef = pd.Series(model_lasso.coef_, index = X_train.columns)\n",
    "print(\"Lasso picked \" + str(sum(coef != 0)) + \" variables and eliminated the other \" +  str(sum(coef == 0)) + \" variables\")\n",
    "# print(coef.sort_values(ascending=False))\n",
    "\n",
    "imp_coef = pd.concat([coef.sort_values().head(10), coef.sort_values().tail(10)])\n",
    "\n",
    "matplotlib.rcParams['figure.figsize'] = (8.0, 10.0)\n",
    "imp_coef.plot(kind = \"barh\")\n",
    "plt.title(\"Coefficients in the Lasso Model\")"
   ]
  },
  {
   "cell_type": "code",
   "execution_count": null,
   "metadata": {
    "collapsed": true
   },
   "outputs": [],
   "source": []
  },
  {
   "cell_type": "markdown",
   "metadata": {
    "_cell_guid": "ca153134-b109-1afc-e066-44273f65d44c",
    "_uuid": "0eda788e068a9ca5464a7da4e7014691ed3c4095"
   },
   "source": [
    "Good job Lasso.  One thing to note here however is that the features selected are not necessarily the \"correct\" ones - especially since there are a lot of collinear features in this dataset. One idea to try here is run Lasso a few times on boostrapped samples and see how stable the feature selection is."
   ]
  },
  {
   "cell_type": "markdown",
   "metadata": {
    "_cell_guid": "632e23a8-948f-c692-f5e9-1aa8a75f21d5",
    "_uuid": "e3469b1a864bee0e6920962b388d1a43cfb1dad5"
   },
   "source": [
    "We can also take a look directly at what the most important coefficients are:"
   ]
  },
  {
   "cell_type": "markdown",
   "metadata": {
    "_cell_guid": "f6e6f820-1ec6-4a69-c309-9992b80652da",
    "_uuid": "3b51af66624747d4e2c23231956ff174e981d872"
   },
   "source": [
    "The most important positive feature is `GrLivArea` -  the above ground area by area square feet. This definitely sense. Then a few other  location and quality features contributed positively. Some of the negative features make less sense and would be worth looking into more - it seems like they might come from unbalanced categorical variables.\n",
    "\n",
    " Also note that unlike the feature importance you'd get from a random forest these are _actual_ coefficients in your model - so you can say precisely why the predicted price is what it is. The only issue here is that we log_transformed both the target and the numeric features so the actual magnitudes are a bit hard to interpret. "
   ]
  },
  {
   "cell_type": "code",
   "execution_count": 195,
   "metadata": {
    "_cell_guid": "cdeaa3d3-f9ad-2e06-1339-61b4425a43f8",
    "_execution_state": "busy",
    "_uuid": "b67d56a24ac709a7416bfe12f59a20199fddb4eb"
   },
   "outputs": [
    {
     "data": {
      "text/plain": [
       "<matplotlib.axes._subplots.AxesSubplot at 0x1173cf048>"
      ]
     },
     "execution_count": 195,
     "metadata": {},
     "output_type": "execute_result"
    },
    {
     "data": {
      "image/png": "[encoded data removed]",
      "text/plain": [
       "<matplotlib.figure.Figure at 0x1173cfc50>"
      ]
     },
     "metadata": {
      "image/png": {
       "height": 371,
       "width": 394
      }
     },
     "output_type": "display_data"
    }
   ],
   "source": [
    "#let's look at the residuals as well:\n",
    "matplotlib.rcParams['figure.figsize'] = (6.0, 6.0)\n",
    "\n",
    "preds = pd.DataFrame({\"preds\":model_lasso.predict(X_train), \"true\":y})\n",
    "preds[\"residuals\"] = preds[\"true\"] - preds[\"preds\"]\n",
    "preds.plot(x = \"preds\", y = \"residuals\",kind = \"scatter\")"
   ]
  },
  {
   "cell_type": "markdown",
   "metadata": {
    "_cell_guid": "4780532e-2815-e355-9a96-fb1c598f6984",
    "_uuid": "a6a322debb4097b9b6fb1cd5f5522dd401688b2e"
   },
   "source": [
    "The residual plot looks pretty good.To wrap it up let's predict on the test set and submit on the leaderboard:"
   ]
  },
  {
   "cell_type": "code",
   "execution_count": 205,
   "metadata": {},
   "outputs": [],
   "source": [
    "X_test = my_data[train.shape[0]:]\n",
    "lasso_preds = np.expm1(model_lasso.predict(X_test))\n",
    "solution = pd.DataFrame({\"id\":test.Id, \"SalePrice\":lasso_preds})\n",
    "solution.to_csv(\"lasso_sol.csv\", index = False)"
   ]
  },
  {
   "cell_type": "markdown",
   "metadata": {
    "_cell_guid": "f8da43e0-fd51-a4c9-d9b2-364d9911699a",
    "_uuid": "285b79edd10a30edc46f17e63e71ed1036fc32b8"
   },
   "source": [
    "### Adding an xgboost model:"
   ]
  },
  {
   "cell_type": "markdown",
   "metadata": {
    "_cell_guid": "ae9bcc1a-5106-0909-ecf7-0abc2d2ca386",
    "_uuid": "7964c013ede40796855e0b1225a99c248ab58c4e"
   },
   "source": [
    "Let's add an xgboost model to our linear model to see if we can improve our score:"
   ]
  },
  {
   "cell_type": "code",
   "execution_count": 106,
   "metadata": {
    "_cell_guid": "654e4fcf-a049-921a-4783-3c6d6dcca673",
    "_execution_state": "busy",
    "_uuid": "e6eb6704fe9b028f115b0c2db81c58cda894b6d9"
   },
   "outputs": [
    {
     "ename": "ModuleNotFoundError",
     "evalue": "No module named 'xgboost'",
     "output_type": "error",
     "traceback": [
      "\u001b[0;31m---------------------------------------------------------------------------\u001b[0m",
      "\u001b[0;31mModuleNotFoundError\u001b[0m                       Traceback (most recent call last)",
      "\u001b[0;32m<ipython-input-106-745aa3a2d734>\u001b[0m in \u001b[0;36m<module>\u001b[0;34m()\u001b[0m\n\u001b[0;32m----> 1\u001b[0;31m \u001b[0;32mimport\u001b[0m \u001b[0mxgboost\u001b[0m \u001b[0;32mas\u001b[0m \u001b[0mxgb\u001b[0m\u001b[0;34m\u001b[0m\u001b[0m\n\u001b[0m",
      "\u001b[0;31mModuleNotFoundError\u001b[0m: No module named 'xgboost'"
     ]
    }
   ],
   "source": [
    "import xgboost as xgb"
   ]
  },
  {
   "cell_type": "code",
   "execution_count": null,
   "metadata": {
    "_cell_guid": "be53a9f8-d88b-05fb-734d-3a1388d39864",
    "_execution_state": "busy",
    "_uuid": "fca7fbe51cb2fd879f724d0dd784c85caf793047",
    "collapsed": true
   },
   "outputs": [],
   "source": [
    "\n",
    "dtrain = xgb.DMatrix(X_train, label = y)\n",
    "dtest = xgb.DMatrix(X_test)\n",
    "\n",
    "params = {\"max_depth\":2, \"eta\":0.1}\n",
    "model = xgb.cv(params, dtrain,  num_boost_round=500, early_stopping_rounds=100)"
   ]
  },
  {
   "cell_type": "code",
   "execution_count": null,
   "metadata": {
    "_cell_guid": "c9d5bfe5-a0a8-0b10-d54a-1dfbb6123bd0",
    "_execution_state": "busy",
    "_uuid": "e0d9a0884db4802ffc910c75be99cc11de32aecd",
    "collapsed": true
   },
   "outputs": [],
   "source": [
    "model.loc[30:,[\"test-rmse-mean\", \"train-rmse-mean\"]].plot()"
   ]
  },
  {
   "cell_type": "code",
   "execution_count": null,
   "metadata": {
    "_cell_guid": "00b8a271-0f93-c757-7e33-516c3a297628",
    "_execution_state": "busy",
    "_uuid": "6cdb0e21e7a1d265dce6e41cf3f83dba11dce100",
    "collapsed": true
   },
   "outputs": [],
   "source": [
    "model_xgb = xgb.XGBRegressor(n_estimators=360, max_depth=2, learning_rate=0.1) #the params were tuned using xgb.cv\n",
    "model_xgb.fit(X_train, y)"
   ]
  },
  {
   "cell_type": "code",
   "execution_count": null,
   "metadata": {
    "_cell_guid": "2b87a004-3a9a-77cc-4b5b-6540f870c028",
    "_execution_state": "busy",
    "_uuid": "f7a1a9eb7be2b0d114cd5df7be9987186895c2e5",
    "collapsed": true
   },
   "outputs": [],
   "source": [
    "xgb_preds = np.expm1(model_xgb.predict(X_test))\n",
    "lasso_preds = np.expm1(model_lasso.predict(X_test))"
   ]
  },
  {
   "cell_type": "code",
   "execution_count": null,
   "metadata": {
    "_cell_guid": "1c9c640b-9e6c-a350-0691-7f6a7dc19c41",
    "_execution_state": "busy",
    "_uuid": "9de2a5f18b81792c9361930f8b0cb00456e04c09",
    "collapsed": true
   },
   "outputs": [],
   "source": [
    "predictions = pd.DataFrame({\"xgb\":xgb_preds, \"lasso\":lasso_preds})\n",
    "predictions.plot(x = \"xgb\", y = \"lasso\", kind = \"scatter\")"
   ]
  },
  {
   "cell_type": "markdown",
   "metadata": {
    "_cell_guid": "74c9bdd2-afbb-5fdf-a776-a8eebfa30d12",
    "_uuid": "888e8e0f9975ba0e0b696fbe6d0922176ac15983"
   },
   "source": [
    "Many times it makes sense to take a weighted average of uncorrelated results - this usually imporoves the score although in this case it doesn't help that much."
   ]
  },
  {
   "cell_type": "code",
   "execution_count": null,
   "metadata": {
    "_cell_guid": "623ed0fe-0150-5226-db27-90a321061d52",
    "_execution_state": "busy",
    "_uuid": "aa405866284c4bbfb42714e475336fe1d2905cc1",
    "collapsed": true
   },
   "outputs": [],
   "source": [
    "preds = 0.7*lasso_preds + 0.3*xgb_preds"
   ]
  },
  {
   "cell_type": "code",
   "execution_count": null,
   "metadata": {
    "_cell_guid": "569d7154-e3b5-84ab-1d28-57bdc02955d9",
    "_execution_state": "busy",
    "_uuid": "a1f2499f98cc354793298360e6fcd1b01fb4008f",
    "collapsed": true
   },
   "outputs": [],
   "source": [
    "solution = pd.DataFrame({\"id\":test.Id, \"SalePrice\":preds})\n",
    "solution.to_csv(\"ridge_sol.csv\", index = False)"
   ]
  },
  {
   "cell_type": "markdown",
   "metadata": {
    "_cell_guid": "fe4ec3c9-ae45-e01e-d881-32da250d44ba",
    "_uuid": "674beb5baf065bb7f9700d4e1a39564990b90062"
   },
   "source": [
    "### Trying out keras?\n",
    "\n",
    "Feedforward Neural Nets doesn't seem to work well at all...I wonder why."
   ]
  },
  {
   "cell_type": "code",
   "execution_count": null,
   "metadata": {
    "_cell_guid": "12121592-5b16-5957-6c54-3fe84bc6708a",
    "_execution_state": "busy",
    "_uuid": "5f981f6e33ffca0958ed38f994643ac5379bb041",
    "collapsed": true
   },
   "outputs": [],
   "source": [
    "from keras.layers import Dense\n",
    "from keras.models import Sequential\n",
    "from keras.regularizers import l1\n",
    "from sklearn.preprocessing import StandardScaler\n",
    "from sklearn.model_selection import train_test_split"
   ]
  },
  {
   "cell_type": "code",
   "execution_count": null,
   "metadata": {
    "_cell_guid": "246a88ac-3963-a603-cf33-eb2976737c98",
    "_execution_state": "busy",
    "_uuid": "1428f71397d442e5984f42601c93b7045bfae827",
    "collapsed": true
   },
   "outputs": [],
   "source": [
    "X_train = StandardScaler().fit_transform(X_train)"
   ]
  },
  {
   "cell_type": "code",
   "execution_count": null,
   "metadata": {
    "_cell_guid": "04936965-5441-3989-1f07-97138b331dbc",
    "_execution_state": "busy",
    "_uuid": "d4728e4b56935116389d2563140978fb51456af1",
    "collapsed": true
   },
   "outputs": [],
   "source": [
    "X_tr, X_val, y_tr, y_val = train_test_split(X_train, y, random_state = 3)"
   ]
  },
  {
   "cell_type": "code",
   "execution_count": null,
   "metadata": {
    "_cell_guid": "5223b976-c02e-062e-5c73-60516bf70fa5",
    "_execution_state": "busy",
    "_uuid": "3a5c1e3e0d5cdb7ae858d1b5f61a965edfbfcc5e",
    "collapsed": true
   },
   "outputs": [],
   "source": [
    "X_tr.shape"
   ]
  },
  {
   "cell_type": "code",
   "execution_count": null,
   "metadata": {
    "_cell_guid": "7b7e0df1-ea9c-5dcb-41cd-f79509218a20",
    "_execution_state": "busy",
    "_uuid": "6768a8861b1cdcac5559e6d50cfbc8bf7ef97912",
    "collapsed": true
   },
   "outputs": [],
   "source": [
    "X_tr"
   ]
  },
  {
   "cell_type": "code",
   "execution_count": null,
   "metadata": {
    "_cell_guid": "14ef62de-56e3-03cc-00c6-a5e2307d1b6a",
    "_execution_state": "busy",
    "_uuid": "376c720d1dd6d322c7205842c2590d48a1230b61",
    "collapsed": true
   },
   "outputs": [],
   "source": [
    "model = Sequential()\n",
    "#model.add(Dense(256, activation=\"relu\", input_dim = X_train.shape[1]))\n",
    "model.add(Dense(1, input_dim = X_train.shape[1], W_regularizer=l1(0.001)))\n",
    "\n",
    "model.compile(loss = \"mse\", optimizer = \"adam\")"
   ]
  },
  {
   "cell_type": "code",
   "execution_count": null,
   "metadata": {
    "_cell_guid": "082332bc-b36b-30db-1e0e-c212fba98b58",
    "_execution_state": "busy",
    "_uuid": "b94384d117e3984ee8436d6928b0c15e326acbfe",
    "collapsed": true
   },
   "outputs": [],
   "source": [
    "model.summary()"
   ]
  },
  {
   "cell_type": "code",
   "execution_count": null,
   "metadata": {
    "_cell_guid": "ad155a35-1d0b-c42f-9bdf-77ff389ddfd4",
    "_execution_state": "busy",
    "_uuid": "b9fbe736b3d0e1f9250e86d69e2aead00fe62964",
    "collapsed": true
   },
   "outputs": [],
   "source": [
    "hist = model.fit(X_tr, y_tr, validation_data = (X_val, y_val))"
   ]
  },
  {
   "cell_type": "code",
   "execution_count": null,
   "metadata": {
    "_cell_guid": "d6c6354f-047b-1d8e-c024-15bb5d570f15",
    "_execution_state": "busy",
    "_uuid": "8a16f4b154040ff949266045d552bd5a4eadd723",
    "collapsed": true
   },
   "outputs": [],
   "source": [
    "pd.Series(model.predict(X_val)[:,0]).hist()"
   ]
  }
 ],
 "metadata": {
  "_change_revision": 0,
  "_is_fork": false,
  "kernelspec": {
   "display_name": "Python 3",
   "language": "python",
   "name": "python3"
  },
  "language_info": {
   "codemirror_mode": {
    "name": "ipython",
    "version": 3
   },
   "file_extension": ".py",
   "mimetype": "text/x-python",
   "name": "python",
   "nbconvert_exporter": "python",
   "pygments_lexer": "ipython3",
   "version": "3.6.0"
  }
 },
 "nbformat": 4,
 "nbformat_minor": 1
}
