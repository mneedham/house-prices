{
 "cells": [
  {
   "cell_type": "code",
   "execution_count": 5,
   "metadata": {},
   "outputs": [
    {
     "name": "stdout",
     "output_type": "stream",
     "text": [
      "Blmngtn https://www.addressreport.com/report/neighborhood/ames-ia/bloomington-heights-ames-ia/ 2\n",
      "Blueste https://www.addressreport.com/report/neighborhood/ames-ia/country-club-heights-ames-ia/?display=true 2\n",
      "BrDale https://www.addressreport.com/report/neighborhood/ames-ia/briardale-square-ames-ia/ 1\n",
      "BrkSide https://www.addressreport.com/report/neighborhood/ames-ia/grand-heights-ames-ia/?display=true 2\n",
      "ClearCr https://www.addressreport.com/report/neighborhood/ames-ia/windsor-oaks-ames-ia/?display=true 2\n",
      "CollgCr https://www.addressreport.com/report/neighborhood/ames-ia/college-creek-ames-ia/ 2\n",
      "Crawfor https://www.addressreport.com/report/neighborhood/ames-ia/elm-park-ames-ia/?display=true 2\n",
      "Edwards https://www.addressreport.com/report/neighborhood/ames-ia/south-fork-ames-ia/?display=true 2\n",
      "Gilbert https://www.addressreport.com/report/neighborhood/ames-ia/bloomington-heights-ames-ia/ 2\n",
      "IDOTRR https://www.addressreport.com/report/neighborhood/ames-ia/highway-ames-ia/?display=true 2\n",
      "MeadowV https://www.addressreport.com/report/neighborhood/ames-ia/meadow-village-ames-ia/?display=true 2\n",
      "Mitchel https://www.addressreport.com/report/neighborhood/ames-ia/southdale-ames-ia/?display=true 2\n",
      "Names https://www.addressreport.com/report/neighborhood/ames-ia/northern-lights-ames-ia/?display=true 2\n",
      "NoRidge https://www.addressreport.com/report/neighborhood/ames-ia/northridge-parkway-ames-ia/ 2\n",
      "NPkVill https://www.addressreport.com/report/neighborhood/ames-ia/north-park-ames-ia/ 2\n",
      "NridgHt https://www.addressreport.com/report/neighborhood/ames-ia/northridge-heights-ames-ia/?display=true 2\n",
      "NWAmes https://www.addressreport.com/report/neighborhood/ames-ia/parkview-heights-ames-ia/ 2\n",
      "OldTown https://www.addressreport.com/report/neighborhood/ames-ia/original-ames-ames-ia/ 2\n",
      "SWISU https://www.addressreport.com/report/neighborhood/ames-ia/country-club-heights-ames-ia/ 2\n",
      "Sawyer https://www.addressreport.com/report/neighborhood/ames-ia/ontario-heights-ames-ia/?display=true 2\n",
      "SawyerW https://www.addressreport.com/report/neighborhood/ames-ia/spring-valley-ames-ia/ 2\n",
      "Somerst https://www.addressreport.com/report/neighborhood/ames-ia/somerset-ames-ia/ 2\n",
      "StoneBr https://www.addressreport.com/report/neighborhood/ames-ia/stone-brooke-ames-ia/ 2\n",
      "Timber https://www.addressreport.com/report/neighborhood/ames-ia/ringgenberg-park-ames-ia/?display=true 2\n",
      "Veenker https://www.addressreport.com/report/neighborhood/ames-ia/the-green-ames-ia/?display=true 2\n"
     ]
    }
   ],
   "source": [
    "import csv\n",
    "\n",
    "with open(\"locations.csv\", \"r\") as file:\n",
    "    reader = csv.reader(file, delimiter=\",\")\n",
    "    next(reader)\n",
    "    for row in reader:\n",
    "        print(row[0], row[2], len(row[2:]))"
   ]
  }
 ],
 "metadata": {
  "kernelspec": {
   "display_name": "Python 3",
   "language": "python",
   "name": "python3"
  },
  "language_info": {
   "codemirror_mode": {
    "name": "ipython",
    "version": 3
   },
   "file_extension": ".py",
   "mimetype": "text/x-python",
   "name": "python",
   "nbconvert_exporter": "python",
   "pygments_lexer": "ipython3",
   "version": "3.6.0"
  }
 },
 "nbformat": 4,
 "nbformat_minor": 2
}
