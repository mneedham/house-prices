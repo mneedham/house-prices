{
 "cells": [
  {
   "cell_type": "code",
   "execution_count": 7,
   "metadata": {},
   "outputs": [
    {
     "name": "stdout",
     "output_type": "stream",
     "text": [
      "Blmngtn 2\n",
      "Blueste 2\n",
      "BrDale 2\n",
      "BrkSide 2\n",
      "ClearCr 2\n",
      "CollgCr 2\n",
      "Crawfor 2\n",
      "Edwards 2\n",
      "Gilbert 2\n",
      "IDOTRR 2\n",
      "MeadowV 2\n",
      "Mitchel 2\n",
      "Names 2\n",
      "NoRidge 2\n",
      "NPkVill 2\n",
      "NridgHt 2\n",
      "NWAmes 2\n",
      "OldTown 2\n",
      "SWISU 2\n",
      "Sawyer 2\n",
      "SawyerW 2\n",
      "Somerst 2\n",
      "StoneBr 2\n",
      "Timber 2\n",
      "Veenker 2\n"
     ]
    }
   ],
   "source": [
    "import csv\n",
    "\n",
    "with open(\"locations.csv\", \"r\") as file:\n",
    "    reader = csv.reader(file, delimiter=\",\")\n",
    "    next(reader)\n",
    "    for row in reader:\n",
    "        print(row[0], len(row[2:]))"
   ]
  }
 ],
 "metadata": {
  "kernelspec": {
   "display_name": "Python 3",
   "language": "python",
   "name": "python3"
  },
  "language_info": {
   "codemirror_mode": {
    "name": "ipython",
    "version": 3
   },
   "file_extension": ".py",
   "mimetype": "text/x-python",
   "name": "python",
   "nbconvert_exporter": "python",
   "pygments_lexer": "ipython3",
   "version": "3.6.0"
  }
 },
 "nbformat": 4,
 "nbformat_minor": 2
}
