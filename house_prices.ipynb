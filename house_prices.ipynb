{
 "cells": [
  {
   "cell_type": "code",
   "execution_count": null,
   "metadata": {
    "collapsed": true
   },
   "outputs": [],
   "source": [
    "import numpy as np\n",
    "import pandas as pd\n",
    "import sklearn\n",
    "\n",
    "from sklearn import linear_model\n",
    "from sklearn.ensemble import RandomForestRegressor\n",
    "from sklearn.metrics import mean_squared_error, r2_score\n",
    "from sklearn.model_selection import train_test_split\n",
    "from sklearn.feature_selection import RFE\n",
    "\n",
    "from tabulate import tabulate\n",
    "from lib import features\n",
    "from collections import defaultdict\n",
    "\n",
    "import seaborn as sns\n",
    "sns.set(style=\"whitegrid\", color_codes=True)\n",
    "sns.set(font_scale=1)"
   ]
  },
  {
   "cell_type": "code",
   "execution_count": null,
   "metadata": {
    "collapsed": true
   },
   "outputs": [],
   "source": [
    "test = pd.read_csv('test.csv')\n",
    "train = pd.read_csv('train.csv')"
   ]
  },
  {
   "cell_type": "code",
   "execution_count": null,
   "metadata": {
    "collapsed": true
   },
   "outputs": [],
   "source": [
    "train.info()"
   ]
  },
  {
   "cell_type": "code",
   "execution_count": null,
   "metadata": {
    "collapsed": true
   },
   "outputs": [],
   "source": [
    "train.columns"
   ]
  },
  {
   "cell_type": "code",
   "execution_count": null,
   "metadata": {
    "collapsed": true
   },
   "outputs": [],
   "source": [
    "%matplotlib inline\n",
    "import matplotlib\n",
    "import matplotlib.pyplot as plt\n",
    "import os\n",
    "\n",
    "plt.rcParams['axes.labelsize'] = 14\n",
    "plt.rcParams['xtick.labelsize'] = 12\n",
    "plt.rcParams['ytick.labelsize'] = 12\n",
    "\n",
    "train.hist(bins=50, figsize=(20,15))\n",
    "plt.show()"
   ]
  },
  {
   "cell_type": "code",
   "execution_count": null,
   "metadata": {
    "collapsed": true
   },
   "outputs": [],
   "source": [
    "correlations=train.corr()\n",
    "attrs = correlations.iloc[:-1,:-1] # all except target\n",
    "\n",
    "threshold = 0.5\n",
    "important_corrs = (attrs[abs(attrs) > threshold][attrs != 1.0]) \\\n",
    "    .unstack().dropna().to_dict()\n",
    "\n",
    "unique_important_corrs = pd.DataFrame(\n",
    "    list(set([(tuple(sorted(key)), important_corrs[key]) \\\n",
    "    for key in important_corrs])), \n",
    "        columns=['Attribute Pair', 'Correlation'])\n",
    "\n",
    "    # sorted by absolute value\n",
    "unique_important_corrs = unique_important_corrs.iloc[\n",
    "    abs(unique_important_corrs['Correlation']).argsort()[::-1]]\n",
    "\n",
    "unique_important_corrs"
   ]
  },
  {
   "cell_type": "code",
   "execution_count": null,
   "metadata": {
    "collapsed": true
   },
   "outputs": [],
   "source": [
    "corrMatrix=train[[\"SalePrice\",\"OverallQual\",\"GrLivArea\",\"GarageCars\",\n",
    "                  \"GarageArea\",\"GarageYrBlt\",\"TotalBsmtSF\",\"1stFlrSF\",\"FullBath\",\n",
    "                  \"TotRmsAbvGrd\",\"YearBuilt\",\"YearRemodAdd\"]].corr()\n",
    "\n",
    "sns.set(font_scale=1.10)\n",
    "plt.figure(figsize=(10, 10))\n",
    "\n",
    "sns.heatmap(corrMatrix, vmax=.8, linewidths=0.01,\n",
    "            square=True,annot=True,cmap='viridis',linecolor=\"white\")\n",
    "plt.title('Correlation between features');"
   ]
  },
  {
   "cell_type": "code",
   "execution_count": null,
   "metadata": {
    "collapsed": true
   },
   "outputs": [],
   "source": [
    "matrix = train.corr()\n",
    "matrix[\"SalePrice\"].sort_values(ascending = False)"
   ]
  },
  {
   "cell_type": "code",
   "execution_count": null,
   "metadata": {
    "collapsed": true
   },
   "outputs": [],
   "source": [
    "data = train.select_dtypes(include=[np.number]).interpolate().dropna()\n",
    "\n",
    "y = np.log(data.SalePrice)\n",
    "X = data.drop([\"SalePrice\", \"Id\"], axis=1)\n",
    "names = X.columns\n",
    "\n",
    "rf = RandomForestRegressor()\n",
    "scores = defaultdict(list)\n",
    "\n",
    "for train_idx, test_idx in sklearn.model_selection.ShuffleSplit(test_size=.3, n_splits=100).split(X):\n",
    "    X_train, X_test = X.iloc[train_idx], X.iloc[test_idx]\n",
    "    Y_train, Y_test = y.iloc[train_idx], y.iloc[test_idx]\n",
    "    r = rf.fit(X_train, Y_train)\n",
    "    acc = r2_score(Y_test, rf.predict(X_test))\n",
    "    for i in range(X.shape[1]):\n",
    "        X_t = X_test.copy()\n",
    "        np.random.shuffle(X_t.iloc[:, i].values)\n",
    "        shuff_acc = r2_score(Y_test, rf.predict(X_t))\n",
    "        scores[names[i]].append((acc - shuff_acc) / acc)\n",
    "print(\"Mean decrease accuracy:\")\n",
    "for score, feature in sorted([(round(np.mean(score), 4), feat) for feat, score in scores.items()], reverse=True)[:5]:\n",
    "    print(score, feature)"
   ]
  },
  {
   "cell_type": "code",
   "execution_count": null,
   "metadata": {
    "collapsed": true
   },
   "outputs": [],
   "source": [
    "data = train.select_dtypes(include=[np.number]).interpolate().dropna()\n",
    "X = data.drop(['SalePrice', 'Id'], axis=1)\n",
    "y = np.log(train.SalePrice)\n",
    "\n",
    "X_train, X_test, y_train, y_test = train_test_split(X, y, random_state=42, test_size=.33)\n",
    "\n",
    "lr = linear_model.LinearRegression()\n",
    "\n",
    "rfe = RFE(lr, 5)\n",
    "fit = rfe.fit(X_train, y_train)\n",
    "print(\"Features: {features}\".format(features=X.columns))\n",
    "print(\"Num Features: {number_features}\".format(number_features=fit.n_features_))\n",
    "print(\"Selected Features: {support}\".format(support=fit.support_))\n",
    "print(\"Feature Ranking: {ranking}\".format(ranking=fit.ranking_))\n",
    "\n",
    "selected_columns = [column for column, selected in zip(X.columns, fit.support_) if selected]\n",
    "print(\"Selected columns: {selected}\".format(selected = selected_columns))"
   ]
  },
  {
   "cell_type": "code",
   "execution_count": null,
   "metadata": {
    "collapsed": true
   },
   "outputs": [],
   "source": [
    "train[['BsmtFinSF1', 'BsmtFinSF2', 'BsmtUnfSF', 'TotalBsmtSF', '2ndFlrSF']].head()"
   ]
  },
  {
   "cell_type": "code",
   "execution_count": null,
   "metadata": {
    "collapsed": true
   },
   "outputs": [],
   "source": [
    "train[\"GarageArea\"].corr(train[\"GarageCars\"])\n",
    "# No point having both of these given how similar they are"
   ]
  },
  {
   "cell_type": "code",
   "execution_count": null,
   "metadata": {
    "collapsed": true
   },
   "outputs": [],
   "source": [
    "train[[\"GarageArea\", \"GarageCars\"]].head()"
   ]
  },
  {
   "cell_type": "code",
   "execution_count": null,
   "metadata": {
    "collapsed": true
   },
   "outputs": [],
   "source": [
    "combined_sf = train.copy()\n",
    "combined_sf[\"TotalSF\"] = combined_sf[\"1stFlrSF\"] + combined_sf[\"2ndFlrSF\"]\n",
    "print(combined_sf[[\"TotalSF\", \"1stFlrSF\", \"2ndFlrSF\"]].head())\n",
    "print(\"Correlation\", combined_sf[\"TotalSF\"].corr(combined_sf[\"SalePrice\"]))\n",
    "print(combined_sf.corr()[\"TotalSF\"].sort_values(ascending = False))\n",
    "# GrLiveArea and TotalSF are almost identical - only need to keep one of them"
   ]
  },
  {
   "cell_type": "code",
   "execution_count": null,
   "metadata": {
    "collapsed": true
   },
   "outputs": [],
   "source": [
    "combined_bath = train.copy()\n",
    "train[\"FullBath\"].corr(train[\"HalfBath\"])\n",
    "combined_bath[\"TotalBath\"] = combined_bath[\"FullBath\"] + (0.5 * combined_bath[\"HalfBath\"])\n",
    "print(combined_bath[[\"TotalBath\", \"FullBath\", \"HalfBath\"]].head())\n",
    "print(\"Correlation\", combined_bath[\"TotalBath\"].corr(combined_bath[\"SalePrice\"]))\n",
    "print(combined_bath.corr()[\"TotalBath\"].sort_values(ascending = False))\n",
    "# has quite a strong correlation with GrLivArea so perhaps we don't need both of them"
   ]
  },
  {
   "cell_type": "code",
   "execution_count": null,
   "metadata": {
    "collapsed": true
   },
   "outputs": [],
   "source": [
    "def create_linear_model(data):\n",
    "    y = np.log(train.SalePrice)\n",
    "    X = data.drop(['SalePrice', 'Id'], axis=1)\n",
    "    X_train, X_test, y_train, y_test = train_test_split(X, y, random_state=42, test_size=.33)\n",
    "    lr = linear_model.LinearRegression()\n",
    "    model = lr.fit(X_train, y_train)\n",
    "    return model, X_test, y_test\n",
    "\n",
    "def test_model(model, X_test, y_test):\n",
    "    return model.score(X_test, y_test), mean_squared_error(y_test, model.predict(X_test))"
   ]
  },
  {
   "cell_type": "code",
   "execution_count": null,
   "metadata": {
    "collapsed": true
   },
   "outputs": [],
   "source": [
    "def clean_nulls(data):\n",
    "    new_data = data.copy()\n",
    "\n",
    "    new_data[\"MasVnrType\"] = new_data[\"MasVnrType\"].fillna('None')\n",
    "    new_data[\"MasVnrArea\"] = new_data[\"MasVnrArea\"].fillna(0.0)\n",
    "    new_data[\"Alley\"] = new_data[\"Alley\"].fillna('None')\n",
    "    basement_cols = ['BsmtQual', 'BsmtCond', 'BsmtExposure', 'BsmtFinType1', 'BsmtFinType2', 'BsmtFinSF1', 'BsmtFinSF2']\n",
    "    for col in basement_cols:\n",
    "        if 'FinSF' not in col:\n",
    "            new_data[col] = new_data[col].fillna('None')\n",
    "    new_data[\"FireplaceQu\"] = new_data[\"FireplaceQu\"].fillna('None')\n",
    "    garage_cols = ['GarageType', 'GarageQual', 'GarageCond', 'GarageYrBlt', 'GarageFinish', 'GarageCars', 'GarageArea']\n",
    "    for col in garage_cols:\n",
    "        if new_data[col].dtype == np.object:\n",
    "            new_data[col] = new_data[col].fillna('None')\n",
    "        else:\n",
    "            new_data[col] = new_data[col].fillna(0)\n",
    "    new_data.Fence = new_data.Fence.fillna(\"None\")\n",
    "    new_data.MiscFeature = new_data.MiscFeature.fillna(\"None\")\n",
    "\n",
    "    missing_lot_frontage = new_data['LotFrontage'].isnull()\n",
    "    new_data['SqrtLotArea'] = np.sqrt(new_data['LotArea'])\n",
    "    # new_data.LotFrontage[missing_lot_frontage] = new_data.SqrtLotArea[missing_lot_frontage]\n",
    "\n",
    "    new_data.loc[missing_lot_frontage, \"LotFrontage\"] = new_data.loc[missing_lot_frontage, \"SqrtLotArea\"]\n",
    "\n",
    "    new_data[\"PoolQC\"] = new_data[\"PoolQC\"].fillna('None')\n",
    "    new_data[\"Electrical\"] = new_data[\"Electrical\"].fillna('SBrkr')\n",
    "\n",
    "    return new_data.drop([\"SqrtLotArea\"], axis=1)"
   ]
  },
  {
   "cell_type": "code",
   "execution_count": null,
   "metadata": {
    "collapsed": true
   },
   "outputs": [],
   "source": [
    "def enc_condition(x): return 1 if x == 'Partial' else 0\n",
    "\n",
    "\n",
    "def foundation(x): return 1 if x == 'PConc' else 0\n",
    "\n",
    "\n",
    "def misc_feature(x): return 1 if x == 'TenC' else 0\n",
    "\n",
    "\n",
    "def fireplace(x): return 1 if x == \"Ex\" else 0\n",
    "\n",
    "\n",
    "def exterior(x):\n",
    "    if x == \"Ex\":\n",
    "        return 5\n",
    "    elif x == \"Gd\":\n",
    "        return 4\n",
    "    elif x == \"TA\":\n",
    "        return 3\n",
    "    elif x == \"Fa\":\n",
    "        return 2\n",
    "    else:\n",
    "        return 1\n",
    "\n",
    "\n",
    "def add_features(data):\n",
    "    new_data = data.copy()\n",
    "    new_data['enc_street'] = pd.get_dummies(new_data.Street, drop_first=True)\n",
    "    new_data['enc_condition'] = new_data.SaleCondition.apply(enc_condition)\n",
    "    new_data['enc_foundation'] = new_data.Foundation.apply(foundation)\n",
    "    new_data['enc_misc_feature'] = new_data.MiscFeature.apply(misc_feature)\n",
    "    new_data['enc_central_air'] = pd.get_dummies(new_data.CentralAir, drop_first=True)\n",
    "    new_data['enc_fireplace'] = new_data.FireplaceQu.apply(misc_feature)\n",
    "    new_data['enc_exterior'] = new_data.ExterCond.apply(exterior)\n",
    "    return new_data"
   ]
  },
  {
   "cell_type": "code",
   "execution_count": null,
   "metadata": {
    "collapsed": true
   },
   "outputs": [],
   "source": [
    "table = []\n",
    "headers = [\"type\", \"R squared\", \"RMSE\"]\n",
    "\n",
    "model, X_test, y_test = create_linear_model(train.select_dtypes(include=[np.number]).interpolate().dropna())\n",
    "table.append([\"Linear: All numeric\"] + list(test_model(model, X_test, y_test)))\n",
    "\n",
    "cleaned_train = clean_nulls(train)\n",
    "model, X_test, y_test = create_linear_model(cleaned_train.select_dtypes(include=[np.number]).interpolate().dropna())\n",
    "table.append([\"Linear: All numeric (clean)\"] + list(test_model(model, X_test, y_test)))\n",
    "\n",
    "combined_train = train.copy()\n",
    "combined_train[\"TotalSF\"] = combined_train[\"1stFlrSF\"] + combined_train[\"2ndFlrSF\"] + combined_train[\"TotalBsmtSF\"]\n",
    "combined_train[\"TotalBath\"] = combined_train[\"FullBath\"] + (0.5 * combined_train[\"HalfBath\"])\n",
    "\n",
    "model, X_test, y_test = create_linear_model(combined_train[['SalePrice', 'Id', 'OverallQual', 'OverallCond', 'GrLivArea', 'GarageArea', \"YearBuilt\"]])\n",
    "table.append([\"Linear: Hand picked\"] + list(test_model(model, X_test, y_test)))\n",
    "\n",
    "print(tabulate(table, headers, tablefmt=\"plain\"))"
   ]
  },
  {
   "cell_type": "code",
   "execution_count": null,
   "metadata": {
    "collapsed": true
   },
   "outputs": [],
   "source": [
    "combined_train_features = add_features(combined_train)\n",
    "combined_train_features.head()\n",
    "combined_train_features.select_dtypes(include=[np.object]).head()"
   ]
  },
  {
   "cell_type": "code",
   "execution_count": null,
   "metadata": {
    "collapsed": true
   },
   "outputs": [],
   "source": [
    "numeric = train.select_dtypes(include=[np.number]).interpolate().dropna()\n",
    "\n",
    "non_numeric_columns = set(train.columns.tolist()) - set(numeric.columns.tolist())\n",
    "for column in list(non_numeric_columns):\n",
    "    print(column, train[column].value_counts(dropna=False).to_dict())"
   ]
  },
  {
   "cell_type": "code",
   "execution_count": null,
   "metadata": {
    "collapsed": true
   },
   "outputs": [],
   "source": [
    "def pivot_me(index_name):\n",
    "    pivot = train.pivot_table(index=index_name, values='SalePrice', aggfunc=np.median)\n",
    "\n",
    "    sns.barplot(y=\"SalePrice\", data=pivot)"
   ]
  },
  {
   "cell_type": "code",
   "execution_count": null,
   "metadata": {
    "collapsed": true
   },
   "outputs": [],
   "source": [
    "# from math import ceil\n",
    "\n",
    "# fig, axs = plt.subplots(ncols=2)\n",
    "\n",
    "# sns.distplot(np.log(train[\"SalePrice\"]), color='r', kde=False, ax=axs[0])\n",
    "# sns.distplot(train[\"SalePrice\"], color='r', kde=False, ax=axs[1])\n",
    "# sns.plt.show()\n",
    "\n",
    "# for column in list(non_numeric_columns):\n",
    "#     pivot_me(column)\n",
    "# plt.show()\n",
    "\n",
    "# for index, column in enumerate(list(non_numeric_columns)[:1]):\n",
    "#     print(column)\n",
    "#     pivot = train.pivot_table(index=column, values='SalePrice', aggfunc=np.median)\n",
    "#     print(pivot)\n",
    "#     sns.barplot(y=\"SalePrice\", data=pivot, ax=axs[index])\n",
    "#     sns.plt.show()"
   ]
  },
  {
   "cell_type": "code",
   "execution_count": null,
   "metadata": {
    "collapsed": true
   },
   "outputs": [],
   "source": [
    "pd.get_dummies(train[\"MSZoning\"]).corrwith(train[\"SalePrice\"])"
   ]
  },
  {
   "cell_type": "code",
   "execution_count": null,
   "metadata": {
    "collapsed": true
   },
   "outputs": [],
   "source": [
    "def residential(x): return 1 if x == \"RL\" else 0\n",
    "\n",
    "combined_train[\"enc_quiet_residential\"] = combined_train[\"MSZoning\"].apply(residential)\n",
    "\n",
    "combined_train.corr()[\"enc_quiet_residential\"].sort_values(ascending=False)"
   ]
  },
  {
   "cell_type": "code",
   "execution_count": null,
   "metadata": {
    "collapsed": true
   },
   "outputs": [],
   "source": [
    "table = []\n",
    "cols = ['SalePrice', 'Id', 'OverallQual', 'OverallCond', 'GrLivArea', 'GarageArea', \"YearBuilt\", \"enc_quiet_residential\"]\n",
    "\n",
    "model, X_test, y_test = create_linear_model(combined_train[cols])\n",
    "table.append([\"Linear: Hand picked residential\"] + list(test_model(model, X_test, y_test)))\n",
    "print(tabulate(table, headers, tablefmt=\"plain\"))"
   ]
  },
  {
   "cell_type": "code",
   "execution_count": null,
   "metadata": {
    "collapsed": true
   },
   "outputs": [],
   "source": [
    "combined_train.corr()[\"YearBuilt\"].sort_values(ascending = False)"
   ]
  },
  {
   "cell_type": "code",
   "execution_count": null,
   "metadata": {
    "collapsed": true
   },
   "outputs": [],
   "source": [
    "cols = [\"YearBuilt\", \"YearRemodAdd\", \"GarageYrBlt\"]\n",
    "combined_train[\"LastWorkDoneYear\"] = combined_train[cols].max(axis=1)\n",
    "combined_train[(cols + [\"LastWorkDoneYear\"])].head()\n",
    "combined_train.corr()[\"LastWorkDoneYear\"].sort_values(ascending=False)"
   ]
  },
  {
   "cell_type": "code",
   "execution_count": null,
   "metadata": {
    "collapsed": true
   },
   "outputs": [],
   "source": [
    "table = []\n",
    "\n",
    "cols = ['SalePrice', 'Id', 'OverallQual', 'OverallCond', 'GrLivArea', 'GarageArea', \"YearBuilt\"]\n",
    "model, X_test, y_test = create_linear_model(combined_train[cols])\n",
    "table.append([\"Linear: Hand picked (base)\"] + list(test_model(model, X_test, y_test)))\n",
    "\n",
    "cols = ['SalePrice', 'Id', 'OverallQual', 'OverallCond', 'GrLivArea', 'GarageArea', \"YearBuilt\", \"enc_quiet_residential\"]\n",
    "model, X_test, y_test = create_linear_model(combined_train[cols])\n",
    "table.append([\"Linear: Hand picked res\"] + list(test_model(model, X_test, y_test)))\n",
    "\n",
    "cols = ['SalePrice', 'Id', 'OverallQual', 'OverallCond', 'GrLivArea', 'GarageArea', \"YearBuilt\", \"enc_quiet_residential\", \"LastWorkDoneYear\"]\n",
    "model, X_test, y_test = create_linear_model(combined_train[cols])\n",
    "table.append([\"Linear: Hand picked res/work done\"] + list(test_model(model, X_test, y_test)))\n",
    "\n",
    "cols = ['SalePrice', 'Id', 'OverallQual', 'OverallCond', 'GrLivArea', 'GarageArea', \"YearBuilt\", \\\n",
    "        \"enc_quiet_residential\", \"LastWorkDoneYear\", \"TotalBath\"]\n",
    "model, X_test, y_test = create_linear_model(combined_train[cols])\n",
    "table.append([\"Linear: Hand picked res/work done/bath\"] + list(test_model(model, X_test, y_test)))\n",
    "\n",
    "cols = ['SalePrice', 'Id', 'OverallQual', 'OverallCond', 'GrLivArea', 'GarageArea', \"YearBuilt\", \\\n",
    "        \"enc_quiet_residential\", \"LastWorkDoneYear\", \"TotalBath\", \"TotalSF\"]\n",
    "model, X_test, y_test = create_linear_model(combined_train[cols])\n",
    "table.append([\"Linear: Hand picked res/work done/bath/floor space\"] + list(test_model(model, X_test, y_test)))\n",
    "\n",
    "cols = ['SalePrice', 'Id', 'OverallQual', 'OverallCond', 'GrLivArea', 'GarageArea', \"YearBuilt\", \\\n",
    "        \"enc_quiet_residential\", \"TotalBath\", \"TotalSF\"]\n",
    "model, X_test, y_test = create_linear_model(combined_train[cols])\n",
    "table.append([\"Linear: Hand picked res/bath/floor space\"] + list(test_model(model, X_test, y_test)))\n",
    "\n",
    "cols = ['SalePrice', 'Id', 'OverallQual', 'OverallCond', 'GarageArea', \"YearBuilt\", \\\n",
    "        \"enc_quiet_residential\", \"TotalBath\", \"TotalSF\"]\n",
    "model, X_test, y_test = create_linear_model(combined_train[cols])\n",
    "table.append([\"Linear: Hand picked res/bath/floor space - GrLivArea\"] + list(test_model(model, X_test, y_test)))\n",
    "\n",
    "cols = ['SalePrice', 'Id', 'OverallCond', 'GarageArea', \"YearBuilt\", \\\n",
    "        \"enc_quiet_residential\", \"TotalBath\", \"TotalSF\"]\n",
    "model, X_test, y_test = create_linear_model(combined_train[cols])\n",
    "table.append([\"Linear: Hand picked res/bath/floor space - OverallQual\"] + list(test_model(model, X_test, y_test)))\n",
    "\n",
    "print(tabulate(table, headers, tablefmt=\"plain\"))\n",
    "\n",
    "combined_train.corr()[\"PoolArea\"].sort_values(ascending=False)"
   ]
  },
  {
   "cell_type": "code",
   "execution_count": null,
   "metadata": {
    "collapsed": true
   },
   "outputs": [],
   "source": [
    "combined_train[\"Fence\"] = combined_train[\"Fence\"].fillna('None')\n",
    "combined_train[\"Fence\"].value_counts(dropna=False)\n",
    "pd.get_dummies(combined_train[\"Fence\"]).corrwith(combined_train[\"SalePrice\"])\n",
    "# this one seems like a bit of a dead end - there are too few actual values to find anything interesting"
   ]
  },
  {
   "cell_type": "code",
   "execution_count": 213,
   "metadata": {},
   "outputs": [
    {
     "name": "stdout",
     "output_type": "stream",
     "text": [
      "Ex    0.504094\n",
      "Fa   -0.157199\n",
      "Gd    0.321641\n",
      "TA   -0.519298\n",
      "dtype: float64\n"
     ]
    },
    {
     "data": {
      "text/plain": [
       "enc_nice_kitchen         1.000000\n",
       "YearRemodAdd             0.533628\n",
       "LastWorkDoneYear         0.515328\n",
       "YearBuilt                0.435315\n",
       "GarageYrBlt              0.425990\n",
       "OverallQual              0.409134\n",
       "TotalBath                0.375126\n",
       "FullBath                 0.372642\n",
       "GarageCars               0.337548\n",
       "SalePrice                0.321641\n",
       "GarageArea               0.291626\n",
       "TotalSF                  0.241115\n",
       "GrLivArea                0.226253\n",
       "TotalBsmtSF              0.173052\n",
       "2ndFlrSF                 0.162119\n",
       "BsmtUnfSF                0.161460\n",
       "OpenPorchSF              0.160655\n",
       "WoodDeckSF               0.160142\n",
       "1stFlrSF                 0.133058\n",
       "HalfBath                 0.132402\n",
       "TotRmsAbvGrd             0.110562\n",
       "Fireplaces               0.103586\n",
       "MasVnrArea               0.093848\n",
       "BsmtFullBath             0.066668\n",
       "enc_quiet_residential    0.058234\n",
       "LotFrontage              0.054340\n",
       "MoSold                   0.043096\n",
       "PoolArea                 0.027842\n",
       "BsmtFinSF1               0.023041\n",
       "MSSubClass               0.022411\n",
       "Id                       0.020933\n",
       "3SsnPorch                0.010250\n",
       "BedroomAbvGr             0.009025\n",
       "LotArea                  0.004941\n",
       "OverallCond             -0.005214\n",
       "YrSold                  -0.008453\n",
       "BsmtHalfBath            -0.021750\n",
       "BsmtFinSF2              -0.036781\n",
       "MiscVal                 -0.041091\n",
       "ScreenPorch             -0.043588\n",
       "LowQualFinSF            -0.068215\n",
       "EnclosedPorch           -0.085834\n",
       "enc_has_damage          -0.116929\n",
       "KitchenAbvGr            -0.154113\n",
       "enc_very_nice_kitchen   -0.222036\n",
       "enc_is_new                    NaN\n",
       "Name: enc_nice_kitchen, dtype: float64"
      ]
     },
     "execution_count": 213,
     "metadata": {},
     "output_type": "execute_result"
    }
   ],
   "source": [
    "def very_nice_kitchen(x): return 1 if x == \"Ex\" else 0\n",
    "def nice_kitchen(x): return 1 if x == \"Gd\" else 0\n",
    "\n",
    "print(pd.get_dummies(combined_train[\"KitchenQual\"]).corrwith(combined_train[\"SalePrice\"]))\n",
    "\n",
    "combined_train[\"enc_very_nice_kitchen\"] = combined_train[\"KitchenQual\"].apply(very_nice_kitchen)\n",
    "combined_train[\"enc_nice_kitchen\"] = combined_train[\"KitchenQual\"].apply(nice_kitchen)\n",
    "combined_train.corr()[\"enc_nice_kitchen\"].sort_values(ascending=False)\n",
    "# Maybe the remod is for a kitchen? "
   ]
  },
  {
   "cell_type": "code",
   "execution_count": null,
   "metadata": {
    "collapsed": true
   },
   "outputs": [],
   "source": [
    "table = []\n",
    "cols = ['SalePrice', 'Id', 'OverallCond', 'GarageArea', \"YearBuilt\", \\\n",
    "        \"enc_quiet_residential\", \"TotalBath\", \"TotalSF\"]\n",
    "model, X_test, y_test = create_linear_model(combined_train[cols])\n",
    "table.append([\"Linear: Hand picked res/bath/floor space - OverallQual\"] + list(test_model(model, X_test, y_test)))\n",
    "\n",
    "cols = ['SalePrice', 'Id', 'OverallCond', 'GarageArea', \"YearBuilt\", \\\n",
    "        \"enc_quiet_residential\", \"TotalBath\", \"TotalSF\", \"enc_very_nice_kitchen\", \"enc_nice_kitchen\"]\n",
    "model, X_test, y_test = create_linear_model(combined_train[cols])\n",
    "table.append([\"Linear: Hand picked res/bath/floor space/kitchen - OverallQual\"] + list(test_model(model, X_test, y_test)))\n",
    "\n",
    "print(tabulate(table, headers, tablefmt=\"plain\"))"
   ]
  },
  {
   "cell_type": "code",
   "execution_count": null,
   "metadata": {
    "collapsed": true
   },
   "outputs": [],
   "source": [
    "print(combined_train[\"Functional\"].value_counts())\n",
    "pd.get_dummies(combined_train[\"Functional\"]).corrwith(combined_train[\"SalePrice\"])\n",
    "\n",
    "def has_damage(x): return 0 if x == \"Typ\" else 1\n",
    "combined_train[\"enc_has_damage\"] = combined_train[\"Functional\"].apply(has_damage)"
   ]
  },
  {
   "cell_type": "code",
   "execution_count": null,
   "metadata": {
    "collapsed": true
   },
   "outputs": [],
   "source": [
    "table = []\n",
    "cols = ['SalePrice', 'Id', 'OverallCond', 'GarageArea', \"YearBuilt\", \\\n",
    "        \"enc_quiet_residential\", \"TotalBath\", \"TotalSF\"]\n",
    "model, X_test, y_test = create_linear_model(combined_train[cols])\n",
    "table.append([\"Linear: Hand picked res/bath/floor space - OverallQual\"] + list(test_model(model, X_test, y_test)))\n",
    "\n",
    "cols = ['SalePrice', 'Id', 'OverallCond', 'GarageArea', \"YearBuilt\", \\\n",
    "        \"enc_quiet_residential\", \"TotalBath\", \"TotalSF\", \"enc_very_nice_kitchen\", \"enc_nice_kitchen\"]\n",
    "model, X_test, y_test = create_linear_model(combined_train[cols])\n",
    "table.append([\"Linear: Hand picked res/bath/floor space/kitchen - OverallQual\"] + list(test_model(model, X_test, y_test)))\n",
    "\n",
    "\n",
    "cols = ['SalePrice', 'Id', 'OverallCond', 'GarageArea', \"YearBuilt\", \\\n",
    "        \"enc_quiet_residential\", \"TotalBath\", \"TotalSF\", \"enc_very_nice_kitchen\", \"enc_nice_kitchen\", \"enc_has_damage\"]\n",
    "model, X_test, y_test = create_linear_model(combined_train[cols])\n",
    "table.append([\"Linear: Hand picked res/bath/floor space/kitchen/damage - OverallQual\"] + list(test_model(model, X_test, y_test)))\n",
    "\n",
    "print(tabulate(table, headers, tablefmt=\"plain\"))"
   ]
  },
  {
   "cell_type": "code",
   "execution_count": null,
   "metadata": {
    "collapsed": true
   },
   "outputs": [],
   "source": [
    "print(combined_train[\"LotShape\"].value_counts())\n",
    "pd.get_dummies(combined_train[\"LotShape\"]).corrwith(combined_train[\"SalePrice\"])\n",
    "# Don't understand this. Seems odd that the price would be lower if the land is a regular shape?"
   ]
  },
  {
   "cell_type": "code",
   "execution_count": 112,
   "metadata": {},
   "outputs": [
    {
     "name": "stdout",
     "output_type": "stream",
     "text": [
      "20     536\n",
      "60     299\n",
      "50     144\n",
      "120     87\n",
      "30      69\n",
      "160     63\n",
      "70      60\n",
      "80      58\n",
      "90      52\n",
      "190     30\n",
      "85      20\n",
      "75      16\n",
      "45      12\n",
      "180     10\n",
      "40       4\n",
      "Name: MSSubClass, dtype: int64\n",
      "20     0.041274\n",
      "30    -0.238640\n",
      "40    -0.016366\n",
      "45    -0.082912\n",
      "50    -0.156692\n",
      "60     0.377197\n",
      "70    -0.036883\n",
      "75     0.015265\n",
      "80    -0.028646\n",
      "85    -0.049137\n",
      "90    -0.114655\n",
      "120    0.062944\n",
      "160   -0.113042\n",
      "180   -0.082215\n",
      "190   -0.093578\n",
      "dtype: float64\n"
     ]
    },
    {
     "data": {
      "text/plain": [
       "0    1161\n",
       "1     299\n",
       "Name: enc_is_new, dtype: int64"
      ]
     },
     "execution_count": 112,
     "metadata": {},
     "output_type": "execute_result"
    }
   ],
   "source": [
    "print(combined_train[\"MSSubClass\"].value_counts())\n",
    "print(pd.get_dummies(combined_train[\"MSSubClass\"]).corrwith(combined_train[\"SalePrice\"]))\n",
    "\n",
    "def is_new(x): return 1 if x == 60 else 0\n",
    "combined_train[\"enc_is_new\"] = combined_train[\"MSSubClass\"].apply(is_new)\n",
    "\n",
    "combined_train.corr()[\"enc_is_new\"].sort_values(ascending = True)\n",
    "combined_train[\"enc_is_new\"].value_counts()"
   ]
  },
  {
   "cell_type": "code",
   "execution_count": 238,
   "metadata": {},
   "outputs": [
    {
     "name": "stdout",
     "output_type": "stream",
     "text": [
      "type                                                                     R squared       RMSE\n",
      "Linear: Hand picked res/bath/floor space/kitchen/damage - OverallQual     0.851683  0.0252778\n"
     ]
    }
   ],
   "source": [
    "table = []\n",
    "cols = ['SalePrice', 'Id', 'OverallCond', 'GarageArea', \"YearBuilt\", \\\n",
    "        \"enc_quiet_residential\", \"TotalBath\", \"TotalSF\", \"enc_very_nice_kitchen\", \\\n",
    "        \"enc_nice_kitchen\", \"enc_has_damage\", \"enc_is_new\"]\n",
    "model, X_test, y_test = create_linear_model(combined_train[cols])\n",
    "table.append([\"Linear: Hand picked res/bath/floor space/kitchen/damage - OverallQual\"] + list(test_model(model, X_test, y_test)))\n",
    "\n",
    "print(tabulate(table, headers, tablefmt=\"plain\"))"
   ]
  },
  {
   "cell_type": "code",
   "execution_count": 239,
   "metadata": {},
   "outputs": [
    {
     "data": {
      "text/plain": [
       "<matplotlib.axes._subplots.AxesSubplot at 0x10fdedef0>"
      ]
     },
     "execution_count": 239,
     "metadata": {},
     "output_type": "execute_result"
    },
    {
     "data": {
      "image/png": "[encoded data removed]",
      "text/plain": [
       "<matplotlib.figure.Figure at 0x110744438>"
      ]
     },
     "metadata": {},
     "output_type": "display_data"
    }
   ],
   "source": [
    "combined_train[\"MSSubClass\"].hist()"
   ]
  }
 ],
 "metadata": {
  "kernelspec": {
   "display_name": "Python 3",
   "language": "python",
   "name": "python3"
  },
  "language_info": {
   "codemirror_mode": {
    "name": "ipython",
    "version": 3
   },
   "file_extension": ".py",
   "mimetype": "text/x-python",
   "name": "python",
   "nbconvert_exporter": "python",
   "pygments_lexer": "ipython3",
   "version": "3.6.0"
  }
 },
 "nbformat": 4,
 "nbformat_minor": 1
}
